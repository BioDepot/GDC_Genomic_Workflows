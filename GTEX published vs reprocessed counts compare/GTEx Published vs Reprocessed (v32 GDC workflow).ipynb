{
 "cells": [
  {
   "cell_type": "markdown",
   "id": "1fa05787",
   "metadata": {},
   "source": [
    "# GTEx Published vs GTEx Reprocessed (v32 GDC workflow) DESeq2 Analysis\n",
    "\n",
    "Three normal \"whole blood\" non-cancerous tissue samples from GTEx are used to compare their counts published from their GTEx/[Broad Instititute Workflow](https://github.com/broadinstitute/gtex-pipeline/tree/master/rnaseq) vs [GDC's v32 workflow](https://docs.gdc.cancer.gov/Data/Bioinformatics_Pipelines/Expression_mRNA_Pipeline/). GTEx samples used are N7MS, NFK9, and O5YT.\n",
    "\n",
    "Analysis included in this workflow:\n",
    "- Pearson correlation\n",
    "- DESeq2 differential expression\n",
    "- Relative change\n",
    "    - Histogram distributions\n",
    "    - Quantiles\n",
    "\n",
    "**R version:** 4.2.2\n",
    "\n",
    "**Bioconductor version:** 3.16\n",
    "\n",
    "List of packages for this notebook:\n",
    "- dplyr\n",
    "- tidyverse\n",
    "- BiocManager\n",
    "    - DESeq2\n",
    "    - EnhancedVolcano"
   ]
  },
  {
   "cell_type": "markdown",
   "id": "2156b22d",
   "metadata": {},
   "source": [
    "## Installing and loading packages"
   ]
  },
  {
   "cell_type": "code",
   "execution_count": 10,
   "id": "f0f128ea",
   "metadata": {
    "scrolled": true
   },
   "outputs": [
    {
     "name": "stderr",
     "output_type": "stream",
     "text": [
      "also installing the dependencies 'vctrs', 'cli', 'dplyr', 'jsonlite', 'purrr', 'readxl'\n",
      "\n",
      "\n"
     ]
    },
    {
     "name": "stdout",
     "output_type": "stream",
     "text": [
      "package 'vctrs' successfully unpacked and MD5 sums checked\n"
     ]
    },
    {
     "name": "stderr",
     "output_type": "stream",
     "text": [
      "Warning message:\n",
      "\"cannot remove prior installation of package 'vctrs'\"\n",
      "Warning message in file.copy(savedcopy, lib, recursive = TRUE):\n",
      "\"problem copying C:\\Users\\bryce\\anaconda3\\envs\\rtest\\Lib\\R\\library\\00LOCK\\vctrs\\libs\\x64\\vctrs.dll to C:\\Users\\bryce\\anaconda3\\envs\\rtest\\Lib\\R\\library\\vctrs\\libs\\x64\\vctrs.dll: Permission denied\"\n",
      "Warning message:\n",
      "\"restored 'vctrs'\"\n"
     ]
    },
    {
     "name": "stdout",
     "output_type": "stream",
     "text": [
      "package 'cli' successfully unpacked and MD5 sums checked\n"
     ]
    },
    {
     "name": "stderr",
     "output_type": "stream",
     "text": [
      "Warning message:\n",
      "\"cannot remove prior installation of package 'cli'\"\n",
      "Warning message in file.copy(savedcopy, lib, recursive = TRUE):\n",
      "\"problem copying C:\\Users\\bryce\\anaconda3\\envs\\rtest\\Lib\\R\\library\\00LOCK\\cli\\libs\\x64\\cli.dll to C:\\Users\\bryce\\anaconda3\\envs\\rtest\\Lib\\R\\library\\cli\\libs\\x64\\cli.dll: Permission denied\"\n",
      "Warning message:\n",
      "\"restored 'cli'\"\n"
     ]
    },
    {
     "name": "stdout",
     "output_type": "stream",
     "text": [
      "package 'dplyr' successfully unpacked and MD5 sums checked\n"
     ]
    },
    {
     "name": "stderr",
     "output_type": "stream",
     "text": [
      "Warning message:\n",
      "\"cannot remove prior installation of package 'dplyr'\"\n",
      "Warning message in file.copy(savedcopy, lib, recursive = TRUE):\n",
      "\"problem copying C:\\Users\\bryce\\anaconda3\\envs\\rtest\\Lib\\R\\library\\00LOCK\\dplyr\\libs\\x64\\dplyr.dll to C:\\Users\\bryce\\anaconda3\\envs\\rtest\\Lib\\R\\library\\dplyr\\libs\\x64\\dplyr.dll: Permission denied\"\n",
      "Warning message:\n",
      "\"restored 'dplyr'\"\n"
     ]
    },
    {
     "name": "stdout",
     "output_type": "stream",
     "text": [
      "package 'jsonlite' successfully unpacked and MD5 sums checked\n"
     ]
    },
    {
     "name": "stderr",
     "output_type": "stream",
     "text": [
      "Warning message:\n",
      "\"cannot remove prior installation of package 'jsonlite'\"\n",
      "Warning message in file.copy(savedcopy, lib, recursive = TRUE):\n",
      "\"problem copying C:\\Users\\bryce\\anaconda3\\envs\\rtest\\Lib\\R\\library\\00LOCK\\jsonlite\\libs\\x64\\jsonlite.dll to C:\\Users\\bryce\\anaconda3\\envs\\rtest\\Lib\\R\\library\\jsonlite\\libs\\x64\\jsonlite.dll: Permission denied\"\n",
      "Warning message:\n",
      "\"restored 'jsonlite'\"\n"
     ]
    },
    {
     "name": "stdout",
     "output_type": "stream",
     "text": [
      "package 'purrr' successfully unpacked and MD5 sums checked\n"
     ]
    },
    {
     "name": "stderr",
     "output_type": "stream",
     "text": [
      "Warning message:\n",
      "\"cannot remove prior installation of package 'purrr'\"\n",
      "Warning message in file.copy(savedcopy, lib, recursive = TRUE):\n",
      "\"problem copying C:\\Users\\bryce\\anaconda3\\envs\\rtest\\Lib\\R\\library\\00LOCK\\purrr\\libs\\x64\\purrr.dll to C:\\Users\\bryce\\anaconda3\\envs\\rtest\\Lib\\R\\library\\purrr\\libs\\x64\\purrr.dll: Permission denied\"\n",
      "Warning message:\n",
      "\"restored 'purrr'\"\n"
     ]
    },
    {
     "name": "stdout",
     "output_type": "stream",
     "text": [
      "package 'readxl' successfully unpacked and MD5 sums checked\n"
     ]
    },
    {
     "name": "stderr",
     "output_type": "stream",
     "text": [
      "Warning message:\n",
      "\"cannot remove prior installation of package 'readxl'\"\n",
      "Warning message in file.copy(savedcopy, lib, recursive = TRUE):\n",
      "\"problem copying C:\\Users\\bryce\\anaconda3\\envs\\rtest\\Lib\\R\\library\\00LOCK\\readxl\\libs\\x64\\readxl.dll to C:\\Users\\bryce\\anaconda3\\envs\\rtest\\Lib\\R\\library\\readxl\\libs\\x64\\readxl.dll: Permission denied\"\n",
      "Warning message:\n",
      "\"restored 'readxl'\"\n"
     ]
    },
    {
     "name": "stdout",
     "output_type": "stream",
     "text": [
      "package 'tidyverse' successfully unpacked and MD5 sums checked\n",
      "\n",
      "The downloaded binary packages are in\n",
      "\tC:\\Users\\bryce\\AppData\\Local\\Temp\\RtmpmIEm3u\\downloaded_packages\n"
     ]
    },
    {
     "name": "stderr",
     "output_type": "stream",
     "text": [
      "'getOption(\"repos\")' replaces Bioconductor standard repositories, see\n",
      "'?repositories' for details\n",
      "\n",
      "replacement repositories:\n",
      "    CRAN: https://cran.r-project.org\n",
      "\n",
      "\n",
      "Bioconductor version 3.14 (BiocManager 1.30.19), R 4.1.3 (2022-03-10)\n",
      "\n",
      "Warning message:\n",
      "\"package(s) not installed when version(s) same as or greater than current; use\n",
      "  `force = TRUE` to re-install: 'DESeq2'\"\n",
      "Old packages: 'BH', 'BiocManager', 'bit', 'boot', 'bslib', 'cachem', 'cli',\n",
      "  'colorspace', 'curl', 'data.table', 'digest', 'dplyr', 'dtplyr', 'evaluate',\n",
      "  'extrafont', 'fansi', 'fastmap', 'fontawesome', 'formatR', 'fs', 'gargle',\n",
      "  'gert', 'ggbeeswarm', 'ggpubr', 'ggrepel', 'gh', 'gtools', 'haven', 'highr',\n",
      "  'htmltools', 'htmlwidgets', 'httpuv', 'httr', 'IRkernel', 'isoband',\n",
      "  'jsonlite', 'knitr', 'locfit', 'MASS', 'Matrix', 'matrixStats', 'mgcv',\n",
      "  'nlme', 'openssl', 'pbdZMQ', 'pbkrtest', 'pkgbuild', 'pkgdown', 'pkgload',\n",
      "  'png', 'proj4', 'purrr', 'Rcpp', 'RcppArmadillo', 'RCurl', 'readxl', 'repr',\n",
      "  'rmarkdown', 'roxygen2', 'RSQLite', 'rstatix', 'Rttf2pt1', 'sass', 'shiny',\n",
      "  'sourcetools', 'stringi', 'survival', 'testthat', 'timechange', 'tinytex',\n",
      "  'utf8', 'vctrs', 'vroom', 'whisker', 'xfun', 'XML', 'yaml'\n",
      "\n"
     ]
    }
   ],
   "source": [
    "# Install packages if necessary\n",
    "if (!require(\"dplyr\", quietly = TRUE))\n",
    "    install.packages(\"dplyr\")\n",
    "install.packages(\"tidyverse\")\n",
    "if (!require(\"BiocManager\", quietly = TRUE))\n",
    "    install.packages(\"BiocManager\"):\n",
    "# BiocManager::install(version = \"3.16\")\n",
    "BiocManager::install(\"EnhancedVolcano\", dependencies = T)\n",
    "BiocManager::install(\"DESeq2\", dependencies = T)\n",
    "\n",
    "# Import libraries\n",
    "library(dplyr)\n",
    "library(DESeq2)\n",
    "\n",
    "# In the case EnhancedVolcano fails to install using BiocManager, pull the package off of github\n",
    "if (!require(\"EnhancedVolcano\", quietly = TRUE))\n",
    "    devtools::install_github('kevinblighe/EnhancedVolcano')\n",
    "library(\"EnhancedVolcano\")"
   ]
  },
  {
   "cell_type": "code",
   "execution_count": 11,
   "id": "d0b878a2",
   "metadata": {},
   "outputs": [],
   "source": [
    "library(dplyr)\n",
    "library(DESeq2)"
   ]
  },
  {
   "cell_type": "markdown",
   "id": "e0ebe589",
   "metadata": {},
   "source": [
    "## Loading count files and formatting into one dataframe"
   ]
  },
  {
   "cell_type": "code",
   "execution_count": 17,
   "id": "ebe3daa9",
   "metadata": {},
   "outputs": [
    {
     "data": {
      "text/html": [
       "<style>\n",
       ".list-inline {list-style: none; margin:0; padding: 0}\n",
       ".list-inline>li {display: inline-block}\n",
       ".list-inline>li:not(:last-child)::after {content: \"\\00b7\"; padding: 0 .5ex}\n",
       "</style>\n",
       "<ol class=list-inline><li>'./N7MS_published.txt'</li><li>'./N7MS_reprocessed.txt'</li><li>'./NFK9_published.txt'</li><li>'./NFK9_reprocessed.txt'</li><li>'./O5YT_published.txt'</li><li>'./O5YT_reprocessed.txt'</li></ol>\n"
      ],
      "text/latex": [
       "\\begin{enumerate*}\n",
       "\\item './N7MS\\_published.txt'\n",
       "\\item './N7MS\\_reprocessed.txt'\n",
       "\\item './NFK9\\_published.txt'\n",
       "\\item './NFK9\\_reprocessed.txt'\n",
       "\\item './O5YT\\_published.txt'\n",
       "\\item './O5YT\\_reprocessed.txt'\n",
       "\\end{enumerate*}\n"
      ],
      "text/markdown": [
       "1. './N7MS_published.txt'\n",
       "2. './N7MS_reprocessed.txt'\n",
       "3. './NFK9_published.txt'\n",
       "4. './NFK9_reprocessed.txt'\n",
       "5. './O5YT_published.txt'\n",
       "6. './O5YT_reprocessed.txt'\n",
       "\n",
       "\n"
      ],
      "text/plain": [
       "[1] \"./N7MS_published.txt\"   \"./N7MS_reprocessed.txt\" \"./NFK9_published.txt\"  \n",
       "[4] \"./NFK9_reprocessed.txt\" \"./O5YT_published.txt\"   \"./O5YT_reprocessed.txt\""
      ]
     },
     "metadata": {},
     "output_type": "display_data"
    },
    {
     "data": {
      "text/html": [
       "<table class=\"dataframe\">\n",
       "<caption>A data.frame: 6 × 7</caption>\n",
       "<thead>\n",
       "\t<tr><th></th><th scope=col>genes</th><th scope=col>GTExN7MScountsPUBLISHED</th><th scope=col>GTExN7MScountsREPROCESSED</th><th scope=col>GTExNFK9countsPUBLISHED</th><th scope=col>GTExNFK9countsREPROCESSED</th><th scope=col>GTExO5YTcountsPUBLISHED</th><th scope=col>GTExO5YTcountsREPROCESSED</th></tr>\n",
       "\t<tr><th></th><th scope=col>&lt;chr&gt;</th><th scope=col>&lt;int&gt;</th><th scope=col>&lt;int&gt;</th><th scope=col>&lt;int&gt;</th><th scope=col>&lt;int&gt;</th><th scope=col>&lt;int&gt;</th><th scope=col>&lt;int&gt;</th></tr>\n",
       "</thead>\n",
       "<tbody>\n",
       "\t<tr><th scope=row>1</th><td>ENSG00000000003</td><td>    4</td><td>    2</td><td>   32</td><td>  17</td><td>    47</td><td>   34</td></tr>\n",
       "\t<tr><th scope=row>2</th><td>ENSG00000000005</td><td>    0</td><td>    0</td><td>    0</td><td>   0</td><td>     0</td><td>    0</td></tr>\n",
       "\t<tr><th scope=row>3</th><td>ENSG00000000419</td><td>  125</td><td>   88</td><td>  406</td><td> 244</td><td>  1618</td><td>  899</td></tr>\n",
       "\t<tr><th scope=row>4</th><td>ENSG00000000457</td><td>  201</td><td>  106</td><td>  242</td><td> 130</td><td>  1179</td><td>  585</td></tr>\n",
       "\t<tr><th scope=row>5</th><td>ENSG00000000460</td><td>   73</td><td>   47</td><td>   65</td><td>  37</td><td>   139</td><td>   89</td></tr>\n",
       "\t<tr><th scope=row>6</th><td>ENSG00000000938</td><td>16696</td><td>10474</td><td>15785</td><td>9488</td><td>167865</td><td>94273</td></tr>\n",
       "</tbody>\n",
       "</table>\n"
      ],
      "text/latex": [
       "A data.frame: 6 × 7\n",
       "\\begin{tabular}{r|lllllll}\n",
       "  & genes & GTExN7MScountsPUBLISHED & GTExN7MScountsREPROCESSED & GTExNFK9countsPUBLISHED & GTExNFK9countsREPROCESSED & GTExO5YTcountsPUBLISHED & GTExO5YTcountsREPROCESSED\\\\\n",
       "  & <chr> & <int> & <int> & <int> & <int> & <int> & <int>\\\\\n",
       "\\hline\n",
       "\t1 & ENSG00000000003 &     4 &     2 &    32 &   17 &     47 &    34\\\\\n",
       "\t2 & ENSG00000000005 &     0 &     0 &     0 &    0 &      0 &     0\\\\\n",
       "\t3 & ENSG00000000419 &   125 &    88 &   406 &  244 &   1618 &   899\\\\\n",
       "\t4 & ENSG00000000457 &   201 &   106 &   242 &  130 &   1179 &   585\\\\\n",
       "\t5 & ENSG00000000460 &    73 &    47 &    65 &   37 &    139 &    89\\\\\n",
       "\t6 & ENSG00000000938 & 16696 & 10474 & 15785 & 9488 & 167865 & 94273\\\\\n",
       "\\end{tabular}\n"
      ],
      "text/markdown": [
       "\n",
       "A data.frame: 6 × 7\n",
       "\n",
       "| <!--/--> | genes &lt;chr&gt; | GTExN7MScountsPUBLISHED &lt;int&gt; | GTExN7MScountsREPROCESSED &lt;int&gt; | GTExNFK9countsPUBLISHED &lt;int&gt; | GTExNFK9countsREPROCESSED &lt;int&gt; | GTExO5YTcountsPUBLISHED &lt;int&gt; | GTExO5YTcountsREPROCESSED &lt;int&gt; |\n",
       "|---|---|---|---|---|---|---|---|\n",
       "| 1 | ENSG00000000003 |     4 |     2 |    32 |   17 |     47 |    34 |\n",
       "| 2 | ENSG00000000005 |     0 |     0 |     0 |    0 |      0 |     0 |\n",
       "| 3 | ENSG00000000419 |   125 |    88 |   406 |  244 |   1618 |   899 |\n",
       "| 4 | ENSG00000000457 |   201 |   106 |   242 |  130 |   1179 |   585 |\n",
       "| 5 | ENSG00000000460 |    73 |    47 |    65 |   37 |    139 |    89 |\n",
       "| 6 | ENSG00000000938 | 16696 | 10474 | 15785 | 9488 | 167865 | 94273 |\n",
       "\n"
      ],
      "text/plain": [
       "  genes           GTExN7MScountsPUBLISHED GTExN7MScountsREPROCESSED\n",
       "1 ENSG00000000003     4                       2                    \n",
       "2 ENSG00000000005     0                       0                    \n",
       "3 ENSG00000000419   125                      88                    \n",
       "4 ENSG00000000457   201                     106                    \n",
       "5 ENSG00000000460    73                      47                    \n",
       "6 ENSG00000000938 16696                   10474                    \n",
       "  GTExNFK9countsPUBLISHED GTExNFK9countsREPROCESSED GTExO5YTcountsPUBLISHED\n",
       "1    32                     17                          47                 \n",
       "2     0                      0                           0                 \n",
       "3   406                    244                        1618                 \n",
       "4   242                    130                        1179                 \n",
       "5    65                     37                         139                 \n",
       "6 15785                   9488                      167865                 \n",
       "  GTExO5YTcountsREPROCESSED\n",
       "1    34                    \n",
       "2     0                    \n",
       "3   899                    \n",
       "4   585                    \n",
       "5    89                    \n",
       "6 94273                    "
      ]
     },
     "metadata": {},
     "output_type": "display_data"
    },
    {
     "data": {
      "text/html": [
       "<table class=\"dataframe\">\n",
       "<caption>A data.frame: 6 × 6</caption>\n",
       "<thead>\n",
       "\t<tr><th></th><th scope=col>GTExN7MScountsPUBLISHED</th><th scope=col>GTExN7MScountsREPROCESSED</th><th scope=col>GTExNFK9countsPUBLISHED</th><th scope=col>GTExNFK9countsREPROCESSED</th><th scope=col>GTExO5YTcountsPUBLISHED</th><th scope=col>GTExO5YTcountsREPROCESSED</th></tr>\n",
       "\t<tr><th></th><th scope=col>&lt;int&gt;</th><th scope=col>&lt;int&gt;</th><th scope=col>&lt;int&gt;</th><th scope=col>&lt;int&gt;</th><th scope=col>&lt;int&gt;</th><th scope=col>&lt;int&gt;</th></tr>\n",
       "</thead>\n",
       "<tbody>\n",
       "\t<tr><th scope=row>ENSG00000000003</th><td>    4</td><td>    2</td><td>   32</td><td>  17</td><td>    47</td><td>   34</td></tr>\n",
       "\t<tr><th scope=row>ENSG00000000005</th><td>    0</td><td>    0</td><td>    0</td><td>   0</td><td>     0</td><td>    0</td></tr>\n",
       "\t<tr><th scope=row>ENSG00000000419</th><td>  125</td><td>   88</td><td>  406</td><td> 244</td><td>  1618</td><td>  899</td></tr>\n",
       "\t<tr><th scope=row>ENSG00000000457</th><td>  201</td><td>  106</td><td>  242</td><td> 130</td><td>  1179</td><td>  585</td></tr>\n",
       "\t<tr><th scope=row>ENSG00000000460</th><td>   73</td><td>   47</td><td>   65</td><td>  37</td><td>   139</td><td>   89</td></tr>\n",
       "\t<tr><th scope=row>ENSG00000000938</th><td>16696</td><td>10474</td><td>15785</td><td>9488</td><td>167865</td><td>94273</td></tr>\n",
       "</tbody>\n",
       "</table>\n"
      ],
      "text/latex": [
       "A data.frame: 6 × 6\n",
       "\\begin{tabular}{r|llllll}\n",
       "  & GTExN7MScountsPUBLISHED & GTExN7MScountsREPROCESSED & GTExNFK9countsPUBLISHED & GTExNFK9countsREPROCESSED & GTExO5YTcountsPUBLISHED & GTExO5YTcountsREPROCESSED\\\\\n",
       "  & <int> & <int> & <int> & <int> & <int> & <int>\\\\\n",
       "\\hline\n",
       "\tENSG00000000003 &     4 &     2 &    32 &   17 &     47 &    34\\\\\n",
       "\tENSG00000000005 &     0 &     0 &     0 &    0 &      0 &     0\\\\\n",
       "\tENSG00000000419 &   125 &    88 &   406 &  244 &   1618 &   899\\\\\n",
       "\tENSG00000000457 &   201 &   106 &   242 &  130 &   1179 &   585\\\\\n",
       "\tENSG00000000460 &    73 &    47 &    65 &   37 &    139 &    89\\\\\n",
       "\tENSG00000000938 & 16696 & 10474 & 15785 & 9488 & 167865 & 94273\\\\\n",
       "\\end{tabular}\n"
      ],
      "text/markdown": [
       "\n",
       "A data.frame: 6 × 6\n",
       "\n",
       "| <!--/--> | GTExN7MScountsPUBLISHED &lt;int&gt; | GTExN7MScountsREPROCESSED &lt;int&gt; | GTExNFK9countsPUBLISHED &lt;int&gt; | GTExNFK9countsREPROCESSED &lt;int&gt; | GTExO5YTcountsPUBLISHED &lt;int&gt; | GTExO5YTcountsREPROCESSED &lt;int&gt; |\n",
       "|---|---|---|---|---|---|---|\n",
       "| ENSG00000000003 |     4 |     2 |    32 |   17 |     47 |    34 |\n",
       "| ENSG00000000005 |     0 |     0 |     0 |    0 |      0 |     0 |\n",
       "| ENSG00000000419 |   125 |    88 |   406 |  244 |   1618 |   899 |\n",
       "| ENSG00000000457 |   201 |   106 |   242 |  130 |   1179 |   585 |\n",
       "| ENSG00000000460 |    73 |    47 |    65 |   37 |    139 |    89 |\n",
       "| ENSG00000000938 | 16696 | 10474 | 15785 | 9488 | 167865 | 94273 |\n",
       "\n"
      ],
      "text/plain": [
       "                GTExN7MScountsPUBLISHED GTExN7MScountsREPROCESSED\n",
       "ENSG00000000003     4                       2                    \n",
       "ENSG00000000005     0                       0                    \n",
       "ENSG00000000419   125                      88                    \n",
       "ENSG00000000457   201                     106                    \n",
       "ENSG00000000460    73                      47                    \n",
       "ENSG00000000938 16696                   10474                    \n",
       "                GTExNFK9countsPUBLISHED GTExNFK9countsREPROCESSED\n",
       "ENSG00000000003    32                     17                     \n",
       "ENSG00000000005     0                      0                     \n",
       "ENSG00000000419   406                    244                     \n",
       "ENSG00000000457   242                    130                     \n",
       "ENSG00000000460    65                     37                     \n",
       "ENSG00000000938 15785                   9488                     \n",
       "                GTExO5YTcountsPUBLISHED GTExO5YTcountsREPROCESSED\n",
       "ENSG00000000003     47                     34                    \n",
       "ENSG00000000005      0                      0                    \n",
       "ENSG00000000419   1618                    899                    \n",
       "ENSG00000000457   1179                    585                    \n",
       "ENSG00000000460    139                     89                    \n",
       "ENSG00000000938 167865                  94273                    "
      ]
     },
     "metadata": {},
     "output_type": "display_data"
    }
   ],
   "source": [
    "# Load counts files\n",
    "setwd(dir = \"GTEx_counts/\")\n",
    "filenames <- list.files(pattern = \"ed.txt\", all.files = T, full.names = T)\n",
    "filenames\n",
    "\n",
    "# Store all counts data in list of dataframes\n",
    "counts <- list()\n",
    "for (i in seq_along(filenames)) {\n",
    "    counts[[i]] <- read.table(file = filenames[i], header = T, sep = \"\\t\")\n",
    "    counts[[i]]$genes <- sub(\"\\\\..*\", \"\", counts[[i]]$genes)\n",
    "    # Remove any duplicate listed genes\n",
    "    counts[[i]] <- counts[[i]] %>% distinct(genes, .keep_all = T)\n",
    "}\n",
    "\n",
    "# names(counts) <- list.files(pattern = \"counts.counts\", all.files = T)\n",
    "# names(counts)\n",
    "\n",
    "# Merge all dataframes in list into one dataframe based on \"genes\" column\n",
    "counts.df <- Reduce(function(...) merge(..., by = 'genes'), counts)\n",
    "head(counts.df)\n",
    "\n",
    "# Make genes column as row names, remove from dataframe\n",
    "dimnames(counts.df)[[1]] <- counts.df[,1]\n",
    "counts.df <- counts.df[, -1]\n",
    "\n",
    "head(counts.df)\n",
    "\n",
    "# Reset work directory\n",
    "setwd(dir = \"..\")"
   ]
  },
  {
   "cell_type": "code",
   "execution_count": 18,
   "id": "f4e059c5",
   "metadata": {
    "scrolled": true
   },
   "outputs": [
    {
     "data": {
      "text/html": [
       "<table class=\"dataframe\">\n",
       "<caption>A data.frame: 55617 × 6</caption>\n",
       "<thead>\n",
       "\t<tr><th></th><th scope=col>GTExN7MScountsPUBLISHED</th><th scope=col>GTExN7MScountsREPROCESSED</th><th scope=col>GTExNFK9countsPUBLISHED</th><th scope=col>GTExNFK9countsREPROCESSED</th><th scope=col>GTExO5YTcountsPUBLISHED</th><th scope=col>GTExO5YTcountsREPROCESSED</th></tr>\n",
       "\t<tr><th></th><th scope=col>&lt;int&gt;</th><th scope=col>&lt;int&gt;</th><th scope=col>&lt;int&gt;</th><th scope=col>&lt;int&gt;</th><th scope=col>&lt;int&gt;</th><th scope=col>&lt;int&gt;</th></tr>\n",
       "</thead>\n",
       "<tbody>\n",
       "\t<tr><th scope=row>ENSG00000000003</th><td>    4</td><td>    2</td><td>   32</td><td>  17</td><td>    47</td><td>   34</td></tr>\n",
       "\t<tr><th scope=row>ENSG00000000005</th><td>    0</td><td>    0</td><td>    0</td><td>   0</td><td>     0</td><td>    0</td></tr>\n",
       "\t<tr><th scope=row>ENSG00000000419</th><td>  125</td><td>   88</td><td>  406</td><td> 244</td><td>  1618</td><td>  899</td></tr>\n",
       "\t<tr><th scope=row>ENSG00000000457</th><td>  201</td><td>  106</td><td>  242</td><td> 130</td><td>  1179</td><td>  585</td></tr>\n",
       "\t<tr><th scope=row>ENSG00000000460</th><td>   73</td><td>   47</td><td>   65</td><td>  37</td><td>   139</td><td>   89</td></tr>\n",
       "\t<tr><th scope=row>ENSG00000000938</th><td>16696</td><td>10474</td><td>15785</td><td>9488</td><td>167865</td><td>94273</td></tr>\n",
       "\t<tr><th scope=row>ENSG00000000971</th><td>   45</td><td>   34</td><td>  396</td><td> 252</td><td>    75</td><td>   70</td></tr>\n",
       "\t<tr><th scope=row>ENSG00000001036</th><td>  255</td><td>  113</td><td>  352</td><td> 189</td><td>   605</td><td>  275</td></tr>\n",
       "\t<tr><th scope=row>ENSG00000001084</th><td>  295</td><td>  156</td><td>  441</td><td> 207</td><td>   319</td><td>  175</td></tr>\n",
       "\t<tr><th scope=row>ENSG00000001167</th><td> 1329</td><td>  735</td><td>  674</td><td> 363</td><td>  1040</td><td>  574</td></tr>\n",
       "\t<tr><th scope=row>ENSG00000001460</th><td>   69</td><td>   37</td><td>   52</td><td>  33</td><td>    80</td><td>   46</td></tr>\n",
       "\t<tr><th scope=row>ENSG00000001461</th><td>  572</td><td>  360</td><td>  285</td><td> 168</td><td>   619</td><td>  377</td></tr>\n",
       "\t<tr><th scope=row>ENSG00000001497</th><td>  744</td><td>  482</td><td>  539</td><td> 326</td><td>   519</td><td>  326</td></tr>\n",
       "\t<tr><th scope=row>ENSG00000001561</th><td>  139</td><td>   75</td><td>  268</td><td> 153</td><td>   561</td><td>  307</td></tr>\n",
       "\t<tr><th scope=row>ENSG00000001617</th><td>   17</td><td>   14</td><td>  151</td><td>  98</td><td>    16</td><td>   11</td></tr>\n",
       "\t<tr><th scope=row>ENSG00000001626</th><td>    0</td><td>    1</td><td>    0</td><td>   3</td><td>     0</td><td>    1</td></tr>\n",
       "\t<tr><th scope=row>ENSG00000001629</th><td>  340</td><td>  196</td><td>  308</td><td> 180</td><td>   619</td><td>  339</td></tr>\n",
       "\t<tr><th scope=row>ENSG00000001630</th><td>   12</td><td>   10</td><td>    7</td><td>   0</td><td>    19</td><td>    1</td></tr>\n",
       "\t<tr><th scope=row>ENSG00000001631</th><td>  167</td><td>   34</td><td>  121</td><td>  23</td><td>   468</td><td>   61</td></tr>\n",
       "\t<tr><th scope=row>ENSG00000002016</th><td>  130</td><td>  105</td><td>   40</td><td>  30</td><td>   143</td><td>  120</td></tr>\n",
       "\t<tr><th scope=row>ENSG00000002079</th><td>    0</td><td>    2</td><td>    0</td><td>   1</td><td>    11</td><td>    5</td></tr>\n",
       "\t<tr><th scope=row>ENSG00000002330</th><td>  133</td><td>   31</td><td>  215</td><td>  43</td><td>   972</td><td>  119</td></tr>\n",
       "\t<tr><th scope=row>ENSG00000002549</th><td>  836</td><td>  474</td><td>  956</td><td> 542</td><td>  2829</td><td> 1537</td></tr>\n",
       "\t<tr><th scope=row>ENSG00000002586</th><td> 5226</td><td> 2941</td><td> 6204</td><td>3634</td><td>  2571</td><td> 1459</td></tr>\n",
       "\t<tr><th scope=row>ENSG00000002587</th><td>    4</td><td>    5</td><td>   18</td><td>  10</td><td>     8</td><td>    7</td></tr>\n",
       "\t<tr><th scope=row>ENSG00000002726</th><td>   99</td><td>   54</td><td>   38</td><td>  24</td><td>     8</td><td>    5</td></tr>\n",
       "\t<tr><th scope=row>ENSG00000002745</th><td>   11</td><td>    8</td><td>    1</td><td>   1</td><td>     0</td><td>    0</td></tr>\n",
       "\t<tr><th scope=row>ENSG00000002746</th><td>    2</td><td>    2</td><td>    0</td><td>   0</td><td>    37</td><td>   29</td></tr>\n",
       "\t<tr><th scope=row>ENSG00000002822</th><td>  960</td><td>   69</td><td> 1035</td><td>  71</td><td>   600</td><td>   15</td></tr>\n",
       "\t<tr><th scope=row>ENSG00000002834</th><td> 5382</td><td> 2837</td><td> 6022</td><td>3194</td><td> 36169</td><td>17912</td></tr>\n",
       "\t<tr><th scope=row>...</th><td>...</td><td>...</td><td>...</td><td>...</td><td>...</td><td>...</td></tr>\n",
       "\t<tr><th scope=row>ENSG00000284513</th><td> 0</td><td> 0</td><td> 0</td><td> 0</td><td>  0</td><td> 0</td></tr>\n",
       "\t<tr><th scope=row>ENSG00000284516</th><td> 0</td><td> 0</td><td> 0</td><td> 0</td><td>  0</td><td> 0</td></tr>\n",
       "\t<tr><th scope=row>ENSG00000284517</th><td> 0</td><td> 0</td><td> 0</td><td> 0</td><td>  0</td><td> 0</td></tr>\n",
       "\t<tr><th scope=row>ENSG00000284518</th><td> 0</td><td> 0</td><td> 0</td><td> 0</td><td>  0</td><td> 0</td></tr>\n",
       "\t<tr><th scope=row>ENSG00000284519</th><td> 0</td><td> 0</td><td> 0</td><td> 0</td><td>  0</td><td> 0</td></tr>\n",
       "\t<tr><th scope=row>ENSG00000284522</th><td> 0</td><td> 0</td><td> 0</td><td> 0</td><td>  0</td><td> 0</td></tr>\n",
       "\t<tr><th scope=row>ENSG00000284523</th><td> 0</td><td> 0</td><td> 0</td><td> 0</td><td>  0</td><td> 0</td></tr>\n",
       "\t<tr><th scope=row>ENSG00000284526</th><td>20</td><td>13</td><td>27</td><td>12</td><td>150</td><td>63</td></tr>\n",
       "\t<tr><th scope=row>ENSG00000284532</th><td> 0</td><td> 0</td><td> 0</td><td> 0</td><td>  0</td><td> 0</td></tr>\n",
       "\t<tr><th scope=row>ENSG00000284535</th><td> 0</td><td> 0</td><td> 0</td><td> 0</td><td>  0</td><td> 0</td></tr>\n",
       "\t<tr><th scope=row>ENSG00000284540</th><td> 0</td><td> 1</td><td> 0</td><td> 0</td><td>  0</td><td> 0</td></tr>\n",
       "\t<tr><th scope=row>ENSG00000284543</th><td> 7</td><td> 4</td><td> 8</td><td> 4</td><td>  0</td><td> 0</td></tr>\n",
       "\t<tr><th scope=row>ENSG00000284546</th><td> 0</td><td> 0</td><td> 0</td><td> 0</td><td>  0</td><td> 0</td></tr>\n",
       "\t<tr><th scope=row>ENSG00000284550</th><td> 0</td><td> 0</td><td> 0</td><td> 0</td><td>  0</td><td> 0</td></tr>\n",
       "\t<tr><th scope=row>ENSG00000284553</th><td> 0</td><td> 0</td><td> 0</td><td> 0</td><td>  0</td><td> 0</td></tr>\n",
       "\t<tr><th scope=row>ENSG00000284557</th><td> 0</td><td> 0</td><td> 0</td><td> 0</td><td>  0</td><td> 0</td></tr>\n",
       "\t<tr><th scope=row>ENSG00000284558</th><td> 0</td><td> 0</td><td> 0</td><td> 0</td><td>  0</td><td> 0</td></tr>\n",
       "\t<tr><th scope=row>ENSG00000284564</th><td> 0</td><td> 0</td><td> 0</td><td> 0</td><td>  0</td><td> 0</td></tr>\n",
       "\t<tr><th scope=row>ENSG00000284572</th><td> 0</td><td> 0</td><td> 0</td><td> 0</td><td>  0</td><td> 0</td></tr>\n",
       "\t<tr><th scope=row>ENSG00000284574</th><td> 0</td><td> 0</td><td> 0</td><td> 0</td><td>  0</td><td> 0</td></tr>\n",
       "\t<tr><th scope=row>ENSG00000284575</th><td> 0</td><td> 0</td><td> 0</td><td> 0</td><td>  0</td><td> 0</td></tr>\n",
       "\t<tr><th scope=row>ENSG00000284584</th><td> 0</td><td> 0</td><td> 0</td><td> 0</td><td>  0</td><td> 0</td></tr>\n",
       "\t<tr><th scope=row>ENSG00000284585</th><td> 0</td><td> 0</td><td> 0</td><td> 0</td><td>  0</td><td> 0</td></tr>\n",
       "\t<tr><th scope=row>ENSG00000284587</th><td> 0</td><td> 0</td><td> 0</td><td> 0</td><td>  0</td><td> 0</td></tr>\n",
       "\t<tr><th scope=row>ENSG00000284591</th><td> 0</td><td> 0</td><td> 0</td><td> 0</td><td>  0</td><td> 0</td></tr>\n",
       "\t<tr><th scope=row>ENSG00000284592</th><td> 0</td><td> 0</td><td> 0</td><td> 0</td><td>  0</td><td> 0</td></tr>\n",
       "\t<tr><th scope=row>ENSG00000284594</th><td> 0</td><td> 4</td><td> 0</td><td> 0</td><td>  0</td><td> 0</td></tr>\n",
       "\t<tr><th scope=row>ENSG00000284595</th><td> 0</td><td> 0</td><td> 0</td><td> 0</td><td>  0</td><td> 0</td></tr>\n",
       "\t<tr><th scope=row>ENSG00000284596</th><td> 0</td><td> 0</td><td> 0</td><td> 0</td><td>  0</td><td> 0</td></tr>\n",
       "\t<tr><th scope=row>ENSG00000284600</th><td> 1</td><td> 0</td><td> 0</td><td> 0</td><td>  0</td><td> 0</td></tr>\n",
       "</tbody>\n",
       "</table>\n"
      ],
      "text/latex": [
       "A data.frame: 55617 × 6\n",
       "\\begin{tabular}{r|llllll}\n",
       "  & GTExN7MScountsPUBLISHED & GTExN7MScountsREPROCESSED & GTExNFK9countsPUBLISHED & GTExNFK9countsREPROCESSED & GTExO5YTcountsPUBLISHED & GTExO5YTcountsREPROCESSED\\\\\n",
       "  & <int> & <int> & <int> & <int> & <int> & <int>\\\\\n",
       "\\hline\n",
       "\tENSG00000000003 &     4 &     2 &    32 &   17 &     47 &    34\\\\\n",
       "\tENSG00000000005 &     0 &     0 &     0 &    0 &      0 &     0\\\\\n",
       "\tENSG00000000419 &   125 &    88 &   406 &  244 &   1618 &   899\\\\\n",
       "\tENSG00000000457 &   201 &   106 &   242 &  130 &   1179 &   585\\\\\n",
       "\tENSG00000000460 &    73 &    47 &    65 &   37 &    139 &    89\\\\\n",
       "\tENSG00000000938 & 16696 & 10474 & 15785 & 9488 & 167865 & 94273\\\\\n",
       "\tENSG00000000971 &    45 &    34 &   396 &  252 &     75 &    70\\\\\n",
       "\tENSG00000001036 &   255 &   113 &   352 &  189 &    605 &   275\\\\\n",
       "\tENSG00000001084 &   295 &   156 &   441 &  207 &    319 &   175\\\\\n",
       "\tENSG00000001167 &  1329 &   735 &   674 &  363 &   1040 &   574\\\\\n",
       "\tENSG00000001460 &    69 &    37 &    52 &   33 &     80 &    46\\\\\n",
       "\tENSG00000001461 &   572 &   360 &   285 &  168 &    619 &   377\\\\\n",
       "\tENSG00000001497 &   744 &   482 &   539 &  326 &    519 &   326\\\\\n",
       "\tENSG00000001561 &   139 &    75 &   268 &  153 &    561 &   307\\\\\n",
       "\tENSG00000001617 &    17 &    14 &   151 &   98 &     16 &    11\\\\\n",
       "\tENSG00000001626 &     0 &     1 &     0 &    3 &      0 &     1\\\\\n",
       "\tENSG00000001629 &   340 &   196 &   308 &  180 &    619 &   339\\\\\n",
       "\tENSG00000001630 &    12 &    10 &     7 &    0 &     19 &     1\\\\\n",
       "\tENSG00000001631 &   167 &    34 &   121 &   23 &    468 &    61\\\\\n",
       "\tENSG00000002016 &   130 &   105 &    40 &   30 &    143 &   120\\\\\n",
       "\tENSG00000002079 &     0 &     2 &     0 &    1 &     11 &     5\\\\\n",
       "\tENSG00000002330 &   133 &    31 &   215 &   43 &    972 &   119\\\\\n",
       "\tENSG00000002549 &   836 &   474 &   956 &  542 &   2829 &  1537\\\\\n",
       "\tENSG00000002586 &  5226 &  2941 &  6204 & 3634 &   2571 &  1459\\\\\n",
       "\tENSG00000002587 &     4 &     5 &    18 &   10 &      8 &     7\\\\\n",
       "\tENSG00000002726 &    99 &    54 &    38 &   24 &      8 &     5\\\\\n",
       "\tENSG00000002745 &    11 &     8 &     1 &    1 &      0 &     0\\\\\n",
       "\tENSG00000002746 &     2 &     2 &     0 &    0 &     37 &    29\\\\\n",
       "\tENSG00000002822 &   960 &    69 &  1035 &   71 &    600 &    15\\\\\n",
       "\tENSG00000002834 &  5382 &  2837 &  6022 & 3194 &  36169 & 17912\\\\\n",
       "\t... & ... & ... & ... & ... & ... & ...\\\\\n",
       "\tENSG00000284513 &  0 &  0 &  0 &  0 &   0 &  0\\\\\n",
       "\tENSG00000284516 &  0 &  0 &  0 &  0 &   0 &  0\\\\\n",
       "\tENSG00000284517 &  0 &  0 &  0 &  0 &   0 &  0\\\\\n",
       "\tENSG00000284518 &  0 &  0 &  0 &  0 &   0 &  0\\\\\n",
       "\tENSG00000284519 &  0 &  0 &  0 &  0 &   0 &  0\\\\\n",
       "\tENSG00000284522 &  0 &  0 &  0 &  0 &   0 &  0\\\\\n",
       "\tENSG00000284523 &  0 &  0 &  0 &  0 &   0 &  0\\\\\n",
       "\tENSG00000284526 & 20 & 13 & 27 & 12 & 150 & 63\\\\\n",
       "\tENSG00000284532 &  0 &  0 &  0 &  0 &   0 &  0\\\\\n",
       "\tENSG00000284535 &  0 &  0 &  0 &  0 &   0 &  0\\\\\n",
       "\tENSG00000284540 &  0 &  1 &  0 &  0 &   0 &  0\\\\\n",
       "\tENSG00000284543 &  7 &  4 &  8 &  4 &   0 &  0\\\\\n",
       "\tENSG00000284546 &  0 &  0 &  0 &  0 &   0 &  0\\\\\n",
       "\tENSG00000284550 &  0 &  0 &  0 &  0 &   0 &  0\\\\\n",
       "\tENSG00000284553 &  0 &  0 &  0 &  0 &   0 &  0\\\\\n",
       "\tENSG00000284557 &  0 &  0 &  0 &  0 &   0 &  0\\\\\n",
       "\tENSG00000284558 &  0 &  0 &  0 &  0 &   0 &  0\\\\\n",
       "\tENSG00000284564 &  0 &  0 &  0 &  0 &   0 &  0\\\\\n",
       "\tENSG00000284572 &  0 &  0 &  0 &  0 &   0 &  0\\\\\n",
       "\tENSG00000284574 &  0 &  0 &  0 &  0 &   0 &  0\\\\\n",
       "\tENSG00000284575 &  0 &  0 &  0 &  0 &   0 &  0\\\\\n",
       "\tENSG00000284584 &  0 &  0 &  0 &  0 &   0 &  0\\\\\n",
       "\tENSG00000284585 &  0 &  0 &  0 &  0 &   0 &  0\\\\\n",
       "\tENSG00000284587 &  0 &  0 &  0 &  0 &   0 &  0\\\\\n",
       "\tENSG00000284591 &  0 &  0 &  0 &  0 &   0 &  0\\\\\n",
       "\tENSG00000284592 &  0 &  0 &  0 &  0 &   0 &  0\\\\\n",
       "\tENSG00000284594 &  0 &  4 &  0 &  0 &   0 &  0\\\\\n",
       "\tENSG00000284595 &  0 &  0 &  0 &  0 &   0 &  0\\\\\n",
       "\tENSG00000284596 &  0 &  0 &  0 &  0 &   0 &  0\\\\\n",
       "\tENSG00000284600 &  1 &  0 &  0 &  0 &   0 &  0\\\\\n",
       "\\end{tabular}\n"
      ],
      "text/markdown": [
       "\n",
       "A data.frame: 55617 × 6\n",
       "\n",
       "| <!--/--> | GTExN7MScountsPUBLISHED &lt;int&gt; | GTExN7MScountsREPROCESSED &lt;int&gt; | GTExNFK9countsPUBLISHED &lt;int&gt; | GTExNFK9countsREPROCESSED &lt;int&gt; | GTExO5YTcountsPUBLISHED &lt;int&gt; | GTExO5YTcountsREPROCESSED &lt;int&gt; |\n",
       "|---|---|---|---|---|---|---|\n",
       "| ENSG00000000003 |     4 |     2 |    32 |   17 |     47 |    34 |\n",
       "| ENSG00000000005 |     0 |     0 |     0 |    0 |      0 |     0 |\n",
       "| ENSG00000000419 |   125 |    88 |   406 |  244 |   1618 |   899 |\n",
       "| ENSG00000000457 |   201 |   106 |   242 |  130 |   1179 |   585 |\n",
       "| ENSG00000000460 |    73 |    47 |    65 |   37 |    139 |    89 |\n",
       "| ENSG00000000938 | 16696 | 10474 | 15785 | 9488 | 167865 | 94273 |\n",
       "| ENSG00000000971 |    45 |    34 |   396 |  252 |     75 |    70 |\n",
       "| ENSG00000001036 |   255 |   113 |   352 |  189 |    605 |   275 |\n",
       "| ENSG00000001084 |   295 |   156 |   441 |  207 |    319 |   175 |\n",
       "| ENSG00000001167 |  1329 |   735 |   674 |  363 |   1040 |   574 |\n",
       "| ENSG00000001460 |    69 |    37 |    52 |   33 |     80 |    46 |\n",
       "| ENSG00000001461 |   572 |   360 |   285 |  168 |    619 |   377 |\n",
       "| ENSG00000001497 |   744 |   482 |   539 |  326 |    519 |   326 |\n",
       "| ENSG00000001561 |   139 |    75 |   268 |  153 |    561 |   307 |\n",
       "| ENSG00000001617 |    17 |    14 |   151 |   98 |     16 |    11 |\n",
       "| ENSG00000001626 |     0 |     1 |     0 |    3 |      0 |     1 |\n",
       "| ENSG00000001629 |   340 |   196 |   308 |  180 |    619 |   339 |\n",
       "| ENSG00000001630 |    12 |    10 |     7 |    0 |     19 |     1 |\n",
       "| ENSG00000001631 |   167 |    34 |   121 |   23 |    468 |    61 |\n",
       "| ENSG00000002016 |   130 |   105 |    40 |   30 |    143 |   120 |\n",
       "| ENSG00000002079 |     0 |     2 |     0 |    1 |     11 |     5 |\n",
       "| ENSG00000002330 |   133 |    31 |   215 |   43 |    972 |   119 |\n",
       "| ENSG00000002549 |   836 |   474 |   956 |  542 |   2829 |  1537 |\n",
       "| ENSG00000002586 |  5226 |  2941 |  6204 | 3634 |   2571 |  1459 |\n",
       "| ENSG00000002587 |     4 |     5 |    18 |   10 |      8 |     7 |\n",
       "| ENSG00000002726 |    99 |    54 |    38 |   24 |      8 |     5 |\n",
       "| ENSG00000002745 |    11 |     8 |     1 |    1 |      0 |     0 |\n",
       "| ENSG00000002746 |     2 |     2 |     0 |    0 |     37 |    29 |\n",
       "| ENSG00000002822 |   960 |    69 |  1035 |   71 |    600 |    15 |\n",
       "| ENSG00000002834 |  5382 |  2837 |  6022 | 3194 |  36169 | 17912 |\n",
       "| ... | ... | ... | ... | ... | ... | ... |\n",
       "| ENSG00000284513 |  0 |  0 |  0 |  0 |   0 |  0 |\n",
       "| ENSG00000284516 |  0 |  0 |  0 |  0 |   0 |  0 |\n",
       "| ENSG00000284517 |  0 |  0 |  0 |  0 |   0 |  0 |\n",
       "| ENSG00000284518 |  0 |  0 |  0 |  0 |   0 |  0 |\n",
       "| ENSG00000284519 |  0 |  0 |  0 |  0 |   0 |  0 |\n",
       "| ENSG00000284522 |  0 |  0 |  0 |  0 |   0 |  0 |\n",
       "| ENSG00000284523 |  0 |  0 |  0 |  0 |   0 |  0 |\n",
       "| ENSG00000284526 | 20 | 13 | 27 | 12 | 150 | 63 |\n",
       "| ENSG00000284532 |  0 |  0 |  0 |  0 |   0 |  0 |\n",
       "| ENSG00000284535 |  0 |  0 |  0 |  0 |   0 |  0 |\n",
       "| ENSG00000284540 |  0 |  1 |  0 |  0 |   0 |  0 |\n",
       "| ENSG00000284543 |  7 |  4 |  8 |  4 |   0 |  0 |\n",
       "| ENSG00000284546 |  0 |  0 |  0 |  0 |   0 |  0 |\n",
       "| ENSG00000284550 |  0 |  0 |  0 |  0 |   0 |  0 |\n",
       "| ENSG00000284553 |  0 |  0 |  0 |  0 |   0 |  0 |\n",
       "| ENSG00000284557 |  0 |  0 |  0 |  0 |   0 |  0 |\n",
       "| ENSG00000284558 |  0 |  0 |  0 |  0 |   0 |  0 |\n",
       "| ENSG00000284564 |  0 |  0 |  0 |  0 |   0 |  0 |\n",
       "| ENSG00000284572 |  0 |  0 |  0 |  0 |   0 |  0 |\n",
       "| ENSG00000284574 |  0 |  0 |  0 |  0 |   0 |  0 |\n",
       "| ENSG00000284575 |  0 |  0 |  0 |  0 |   0 |  0 |\n",
       "| ENSG00000284584 |  0 |  0 |  0 |  0 |   0 |  0 |\n",
       "| ENSG00000284585 |  0 |  0 |  0 |  0 |   0 |  0 |\n",
       "| ENSG00000284587 |  0 |  0 |  0 |  0 |   0 |  0 |\n",
       "| ENSG00000284591 |  0 |  0 |  0 |  0 |   0 |  0 |\n",
       "| ENSG00000284592 |  0 |  0 |  0 |  0 |   0 |  0 |\n",
       "| ENSG00000284594 |  0 |  4 |  0 |  0 |   0 |  0 |\n",
       "| ENSG00000284595 |  0 |  0 |  0 |  0 |   0 |  0 |\n",
       "| ENSG00000284596 |  0 |  0 |  0 |  0 |   0 |  0 |\n",
       "| ENSG00000284600 |  1 |  0 |  0 |  0 |   0 |  0 |\n",
       "\n"
      ],
      "text/plain": [
       "                GTExN7MScountsPUBLISHED GTExN7MScountsREPROCESSED\n",
       "ENSG00000000003     4                       2                    \n",
       "ENSG00000000005     0                       0                    \n",
       "ENSG00000000419   125                      88                    \n",
       "ENSG00000000457   201                     106                    \n",
       "ENSG00000000460    73                      47                    \n",
       "ENSG00000000938 16696                   10474                    \n",
       "ENSG00000000971    45                      34                    \n",
       "ENSG00000001036   255                     113                    \n",
       "ENSG00000001084   295                     156                    \n",
       "ENSG00000001167  1329                     735                    \n",
       "ENSG00000001460    69                      37                    \n",
       "ENSG00000001461   572                     360                    \n",
       "ENSG00000001497   744                     482                    \n",
       "ENSG00000001561   139                      75                    \n",
       "ENSG00000001617    17                      14                    \n",
       "ENSG00000001626     0                       1                    \n",
       "ENSG00000001629   340                     196                    \n",
       "ENSG00000001630    12                      10                    \n",
       "ENSG00000001631   167                      34                    \n",
       "ENSG00000002016   130                     105                    \n",
       "ENSG00000002079     0                       2                    \n",
       "ENSG00000002330   133                      31                    \n",
       "ENSG00000002549   836                     474                    \n",
       "ENSG00000002586  5226                    2941                    \n",
       "ENSG00000002587     4                       5                    \n",
       "ENSG00000002726    99                      54                    \n",
       "ENSG00000002745    11                       8                    \n",
       "ENSG00000002746     2                       2                    \n",
       "ENSG00000002822   960                      69                    \n",
       "ENSG00000002834  5382                    2837                    \n",
       "...             ...                     ...                      \n",
       "ENSG00000284513  0                       0                       \n",
       "ENSG00000284516  0                       0                       \n",
       "ENSG00000284517  0                       0                       \n",
       "ENSG00000284518  0                       0                       \n",
       "ENSG00000284519  0                       0                       \n",
       "ENSG00000284522  0                       0                       \n",
       "ENSG00000284523  0                       0                       \n",
       "ENSG00000284526 20                      13                       \n",
       "ENSG00000284532  0                       0                       \n",
       "ENSG00000284535  0                       0                       \n",
       "ENSG00000284540  0                       1                       \n",
       "ENSG00000284543  7                       4                       \n",
       "ENSG00000284546  0                       0                       \n",
       "ENSG00000284550  0                       0                       \n",
       "ENSG00000284553  0                       0                       \n",
       "ENSG00000284557  0                       0                       \n",
       "ENSG00000284558  0                       0                       \n",
       "ENSG00000284564  0                       0                       \n",
       "ENSG00000284572  0                       0                       \n",
       "ENSG00000284574  0                       0                       \n",
       "ENSG00000284575  0                       0                       \n",
       "ENSG00000284584  0                       0                       \n",
       "ENSG00000284585  0                       0                       \n",
       "ENSG00000284587  0                       0                       \n",
       "ENSG00000284591  0                       0                       \n",
       "ENSG00000284592  0                       0                       \n",
       "ENSG00000284594  0                       4                       \n",
       "ENSG00000284595  0                       0                       \n",
       "ENSG00000284596  0                       0                       \n",
       "ENSG00000284600  1                       0                       \n",
       "                GTExNFK9countsPUBLISHED GTExNFK9countsREPROCESSED\n",
       "ENSG00000000003    32                     17                     \n",
       "ENSG00000000005     0                      0                     \n",
       "ENSG00000000419   406                    244                     \n",
       "ENSG00000000457   242                    130                     \n",
       "ENSG00000000460    65                     37                     \n",
       "ENSG00000000938 15785                   9488                     \n",
       "ENSG00000000971   396                    252                     \n",
       "ENSG00000001036   352                    189                     \n",
       "ENSG00000001084   441                    207                     \n",
       "ENSG00000001167   674                    363                     \n",
       "ENSG00000001460    52                     33                     \n",
       "ENSG00000001461   285                    168                     \n",
       "ENSG00000001497   539                    326                     \n",
       "ENSG00000001561   268                    153                     \n",
       "ENSG00000001617   151                     98                     \n",
       "ENSG00000001626     0                      3                     \n",
       "ENSG00000001629   308                    180                     \n",
       "ENSG00000001630     7                      0                     \n",
       "ENSG00000001631   121                     23                     \n",
       "ENSG00000002016    40                     30                     \n",
       "ENSG00000002079     0                      1                     \n",
       "ENSG00000002330   215                     43                     \n",
       "ENSG00000002549   956                    542                     \n",
       "ENSG00000002586  6204                   3634                     \n",
       "ENSG00000002587    18                     10                     \n",
       "ENSG00000002726    38                     24                     \n",
       "ENSG00000002745     1                      1                     \n",
       "ENSG00000002746     0                      0                     \n",
       "ENSG00000002822  1035                     71                     \n",
       "ENSG00000002834  6022                   3194                     \n",
       "...             ...                     ...                      \n",
       "ENSG00000284513  0                       0                       \n",
       "ENSG00000284516  0                       0                       \n",
       "ENSG00000284517  0                       0                       \n",
       "ENSG00000284518  0                       0                       \n",
       "ENSG00000284519  0                       0                       \n",
       "ENSG00000284522  0                       0                       \n",
       "ENSG00000284523  0                       0                       \n",
       "ENSG00000284526 27                      12                       \n",
       "ENSG00000284532  0                       0                       \n",
       "ENSG00000284535  0                       0                       \n",
       "ENSG00000284540  0                       0                       \n",
       "ENSG00000284543  8                       4                       \n",
       "ENSG00000284546  0                       0                       \n",
       "ENSG00000284550  0                       0                       \n",
       "ENSG00000284553  0                       0                       \n",
       "ENSG00000284557  0                       0                       \n",
       "ENSG00000284558  0                       0                       \n",
       "ENSG00000284564  0                       0                       \n",
       "ENSG00000284572  0                       0                       \n",
       "ENSG00000284574  0                       0                       \n",
       "ENSG00000284575  0                       0                       \n",
       "ENSG00000284584  0                       0                       \n",
       "ENSG00000284585  0                       0                       \n",
       "ENSG00000284587  0                       0                       \n",
       "ENSG00000284591  0                       0                       \n",
       "ENSG00000284592  0                       0                       \n",
       "ENSG00000284594  0                       0                       \n",
       "ENSG00000284595  0                       0                       \n",
       "ENSG00000284596  0                       0                       \n",
       "ENSG00000284600  0                       0                       \n",
       "                GTExO5YTcountsPUBLISHED GTExO5YTcountsREPROCESSED\n",
       "ENSG00000000003     47                     34                    \n",
       "ENSG00000000005      0                      0                    \n",
       "ENSG00000000419   1618                    899                    \n",
       "ENSG00000000457   1179                    585                    \n",
       "ENSG00000000460    139                     89                    \n",
       "ENSG00000000938 167865                  94273                    \n",
       "ENSG00000000971     75                     70                    \n",
       "ENSG00000001036    605                    275                    \n",
       "ENSG00000001084    319                    175                    \n",
       "ENSG00000001167   1040                    574                    \n",
       "ENSG00000001460     80                     46                    \n",
       "ENSG00000001461    619                    377                    \n",
       "ENSG00000001497    519                    326                    \n",
       "ENSG00000001561    561                    307                    \n",
       "ENSG00000001617     16                     11                    \n",
       "ENSG00000001626      0                      1                    \n",
       "ENSG00000001629    619                    339                    \n",
       "ENSG00000001630     19                      1                    \n",
       "ENSG00000001631    468                     61                    \n",
       "ENSG00000002016    143                    120                    \n",
       "ENSG00000002079     11                      5                    \n",
       "ENSG00000002330    972                    119                    \n",
       "ENSG00000002549   2829                   1537                    \n",
       "ENSG00000002586   2571                   1459                    \n",
       "ENSG00000002587      8                      7                    \n",
       "ENSG00000002726      8                      5                    \n",
       "ENSG00000002745      0                      0                    \n",
       "ENSG00000002746     37                     29                    \n",
       "ENSG00000002822    600                     15                    \n",
       "ENSG00000002834  36169                  17912                    \n",
       "...             ...                     ...                      \n",
       "ENSG00000284513   0                      0                       \n",
       "ENSG00000284516   0                      0                       \n",
       "ENSG00000284517   0                      0                       \n",
       "ENSG00000284518   0                      0                       \n",
       "ENSG00000284519   0                      0                       \n",
       "ENSG00000284522   0                      0                       \n",
       "ENSG00000284523   0                      0                       \n",
       "ENSG00000284526 150                     63                       \n",
       "ENSG00000284532   0                      0                       \n",
       "ENSG00000284535   0                      0                       \n",
       "ENSG00000284540   0                      0                       \n",
       "ENSG00000284543   0                      0                       \n",
       "ENSG00000284546   0                      0                       \n",
       "ENSG00000284550   0                      0                       \n",
       "ENSG00000284553   0                      0                       \n",
       "ENSG00000284557   0                      0                       \n",
       "ENSG00000284558   0                      0                       \n",
       "ENSG00000284564   0                      0                       \n",
       "ENSG00000284572   0                      0                       \n",
       "ENSG00000284574   0                      0                       \n",
       "ENSG00000284575   0                      0                       \n",
       "ENSG00000284584   0                      0                       \n",
       "ENSG00000284585   0                      0                       \n",
       "ENSG00000284587   0                      0                       \n",
       "ENSG00000284591   0                      0                       \n",
       "ENSG00000284592   0                      0                       \n",
       "ENSG00000284594   0                      0                       \n",
       "ENSG00000284595   0                      0                       \n",
       "ENSG00000284596   0                      0                       \n",
       "ENSG00000284600   0                      0                       "
      ]
     },
     "metadata": {},
     "output_type": "display_data"
    }
   ],
   "source": [
    "counts.df"
   ]
  },
  {
   "cell_type": "code",
   "execution_count": 19,
   "id": "d7347b8a",
   "metadata": {},
   "outputs": [],
   "source": [
    "## Export dataframe as csv and txt\n",
    "write.csv(counts.df, \"GTEx published vs reprocessed all.csv\", row.names = T)\n",
    "write.table(counts.df, \"GTEx published vs processed all.txt\", row.names = T, sep = \"\\t\")"
   ]
  },
  {
   "cell_type": "markdown",
   "id": "74abb0b1",
   "metadata": {},
   "source": [
    "## Quick Pearson correlation coefficient calculation between published and reprocessed"
   ]
  },
  {
   "cell_type": "code",
   "execution_count": 20,
   "id": "e520bca8",
   "metadata": {},
   "outputs": [
    {
     "name": "stdout",
     "output_type": "stream",
     "text": [
      "[1] \"Pearson's correlation for N7MS:\"\n"
     ]
    },
    {
     "data": {
      "text/html": [
       "0.997801133378948"
      ],
      "text/latex": [
       "0.997801133378948"
      ],
      "text/markdown": [
       "0.997801133378948"
      ],
      "text/plain": [
       "[1] 0.9978011"
      ]
     },
     "metadata": {},
     "output_type": "display_data"
    },
    {
     "name": "stdout",
     "output_type": "stream",
     "text": [
      "[1] \"Pearson's correlation for NFK9:\"\n"
     ]
    },
    {
     "data": {
      "text/html": [
       "0.99304929133045"
      ],
      "text/latex": [
       "0.99304929133045"
      ],
      "text/markdown": [
       "0.99304929133045"
      ],
      "text/plain": [
       "[1] 0.9930493"
      ]
     },
     "metadata": {},
     "output_type": "display_data"
    },
    {
     "name": "stdout",
     "output_type": "stream",
     "text": [
      "[1] \"Pearson's correlation for O5YT:\"\n"
     ]
    },
    {
     "data": {
      "text/html": [
       "0.994738115595614"
      ],
      "text/latex": [
       "0.994738115595614"
      ],
      "text/markdown": [
       "0.994738115595614"
      ],
      "text/plain": [
       "[1] 0.9947381"
      ]
     },
     "metadata": {},
     "output_type": "display_data"
    }
   ],
   "source": [
    "print(\"Pearson's correlation for N7MS:\")\n",
    "cor(counts.df$GTExN7MScountsPUBLISHED, counts.df$GTExN7MScountsREPROCESSED, method = \"pearson\")\n",
    "\n",
    "print(\"Pearson's correlation for NFK9:\")\n",
    "cor(counts.df$GTExNFK9countsPUBLISHED, counts.df$GTExNFK9countsREPROCESSED, method = \"pearson\")\n",
    "\n",
    "print(\"Pearson's correlation for O5YT:\")\n",
    "cor(counts.df$GTExO5YTcountsPUBLISHED, counts.df$GTExO5YTcountsREPROCESSED, method = \"pearson\")"
   ]
  },
  {
   "cell_type": "markdown",
   "id": "0e444221",
   "metadata": {},
   "source": [
    "## DESeq2 setup"
   ]
  },
  {
   "cell_type": "code",
   "execution_count": 21,
   "id": "674b536f",
   "metadata": {},
   "outputs": [
    {
     "data": {
      "text/html": [
       "<table class=\"dataframe\">\n",
       "<caption>A data.frame: 6 × 2</caption>\n",
       "<thead>\n",
       "\t<tr><th scope=col>colName</th><th scope=col>condition</th></tr>\n",
       "\t<tr><th scope=col>&lt;chr&gt;</th><th scope=col>&lt;chr&gt;</th></tr>\n",
       "</thead>\n",
       "<tbody>\n",
       "\t<tr><td>GTExN7MScountsPUBLISHED  </td><td>published  </td></tr>\n",
       "\t<tr><td>GTExN7MScountsREPROCESSED</td><td>reprocessed</td></tr>\n",
       "\t<tr><td>GTExNFK9countsPUBLISHED  </td><td>published  </td></tr>\n",
       "\t<tr><td>GTExNFK9countsREPROCESSED</td><td>reprocessed</td></tr>\n",
       "\t<tr><td>GTExO5YTcountsPUBLISHED  </td><td>published  </td></tr>\n",
       "\t<tr><td>GTExO5YTcountsREPROCESSED</td><td>reprocessed</td></tr>\n",
       "</tbody>\n",
       "</table>\n"
      ],
      "text/latex": [
       "A data.frame: 6 × 2\n",
       "\\begin{tabular}{ll}\n",
       " colName & condition\\\\\n",
       " <chr> & <chr>\\\\\n",
       "\\hline\n",
       "\t GTExN7MScountsPUBLISHED   & published  \\\\\n",
       "\t GTExN7MScountsREPROCESSED & reprocessed\\\\\n",
       "\t GTExNFK9countsPUBLISHED   & published  \\\\\n",
       "\t GTExNFK9countsREPROCESSED & reprocessed\\\\\n",
       "\t GTExO5YTcountsPUBLISHED   & published  \\\\\n",
       "\t GTExO5YTcountsREPROCESSED & reprocessed\\\\\n",
       "\\end{tabular}\n"
      ],
      "text/markdown": [
       "\n",
       "A data.frame: 6 × 2\n",
       "\n",
       "| colName &lt;chr&gt; | condition &lt;chr&gt; |\n",
       "|---|---|\n",
       "| GTExN7MScountsPUBLISHED   | published   |\n",
       "| GTExN7MScountsREPROCESSED | reprocessed |\n",
       "| GTExNFK9countsPUBLISHED   | published   |\n",
       "| GTExNFK9countsREPROCESSED | reprocessed |\n",
       "| GTExO5YTcountsPUBLISHED   | published   |\n",
       "| GTExO5YTcountsREPROCESSED | reprocessed |\n",
       "\n"
      ],
      "text/plain": [
       "  colName                   condition  \n",
       "1 GTExN7MScountsPUBLISHED   published  \n",
       "2 GTExN7MScountsREPROCESSED reprocessed\n",
       "3 GTExNFK9countsPUBLISHED   published  \n",
       "4 GTExNFK9countsREPROCESSED reprocessed\n",
       "5 GTExO5YTcountsPUBLISHED   published  \n",
       "6 GTExO5YTcountsREPROCESSED reprocessed"
      ]
     },
     "metadata": {},
     "output_type": "display_data"
    }
   ],
   "source": [
    "# A function to create annotation dataframe from dataframe input, returns the annotation dataframe\n",
    "createAnnotations <- function(df) {\n",
    "    colName <- colnames(df)\n",
    "    condition <- vector()\n",
    "    for (col in colName) {\n",
    "        if (grepl(\"PUBLISHED\", col, fixed = T)) {\n",
    "            # column is PUBLISHED, label as \"published\"\n",
    "            condition <- append(condition, \"published\")\n",
    "        } else {\n",
    "            # column is GTEx, label as \"reprocessed\"\n",
    "            condition <- append(condition, \"reprocessed\")\n",
    "        }\n",
    "    }\n",
    "    \n",
    "    return (data.frame(colName, condition))\n",
    "}\n",
    "\n",
    "# Create annotation table for DESeq2\n",
    "counts.df.meta <- createAnnotations(counts.df)\n",
    "counts.df.meta"
   ]
  },
  {
   "cell_type": "markdown",
   "id": "b69dba68",
   "metadata": {},
   "source": [
    "## Perform DESeq2, alpha = 0.05"
   ]
  },
  {
   "cell_type": "code",
   "execution_count": 22,
   "id": "00168484",
   "metadata": {},
   "outputs": [
    {
     "name": "stderr",
     "output_type": "stream",
     "text": [
      "converting counts to integer mode\n",
      "\n",
      "Warning message in DESeqDataSet(se, design = design, ignoreRank):\n",
      "\"some variables in design formula are characters, converting to factors\"\n",
      "estimating size factors\n",
      "\n",
      "estimating dispersions\n",
      "\n",
      "gene-wise dispersion estimates\n",
      "\n",
      "mean-dispersion relationship\n",
      "\n",
      "final dispersion estimates\n",
      "\n",
      "fitting model and testing\n",
      "\n"
     ]
    }
   ],
   "source": [
    "# A function to get DESEQDataSet (dds) and perform DESeq on it, returns the dds after DESeq\n",
    "performDeseq <- function(countDf, colDf) {\n",
    "    dds <- DESeqDataSetFromMatrix(countData = round(countDf), colData = colDf, design= ~ condition)\n",
    "    dds <- DESeq(dds)\n",
    "    return (dds)\n",
    "}\n",
    "\n",
    "counts.dds <- performDeseq(counts.df, counts.df.meta)\n",
    "\n",
    "# Get the result from DESeq2 into dataframe, alpha = 0.05\n",
    "counts.dds.res <- results(counts.dds, alpha = 0.05)"
   ]
  },
  {
   "cell_type": "code",
   "execution_count": 23,
   "id": "29c6325a",
   "metadata": {},
   "outputs": [
    {
     "data": {
      "text/plain": [
       "log2 fold change (MLE): condition reprocessed vs published \n",
       "Wald test p-value: condition reprocessed vs published \n",
       "DataFrame with 55617 rows and 6 columns\n",
       "                 baseMean log2FoldChange     lfcSE       stat    pvalue\n",
       "                <numeric>      <numeric> <numeric>  <numeric> <numeric>\n",
       "ENSG00000000003   19.5712    -0.01816188  1.081403 -0.0167947  0.986600\n",
       "ENSG00000000005    0.0000             NA        NA         NA        NA\n",
       "ENSG00000000419  433.8215    -0.08491260  0.843193 -0.1007036  0.919786\n",
       "ENSG00000000457  313.4962    -0.27670716  0.695634 -0.3977771  0.690794\n",
       "ENSG00000000460   68.3305    -0.00742915  0.496849 -0.0149525  0.988070\n",
       "...                   ...            ...       ...        ...       ...\n",
       "ENSG00000284592   0.00000             NA        NA         NA        NA\n",
       "ENSG00000284594   1.02101       3.804321   3.96403  0.9597101  0.337201\n",
       "ENSG00000284595   0.00000             NA        NA         NA        NA\n",
       "ENSG00000284596   0.00000             NA        NA         NA        NA\n",
       "ENSG00000284600   0.16291      -0.339776   4.07236 -0.0834346  0.933506\n",
       "                     padj\n",
       "                <numeric>\n",
       "ENSG00000000003  0.999987\n",
       "ENSG00000000005        NA\n",
       "ENSG00000000419  0.999987\n",
       "ENSG00000000457  0.999987\n",
       "ENSG00000000460  0.999987\n",
       "...                   ...\n",
       "ENSG00000284592        NA\n",
       "ENSG00000284594        NA\n",
       "ENSG00000284595        NA\n",
       "ENSG00000284596        NA\n",
       "ENSG00000284600        NA"
      ]
     },
     "metadata": {},
     "output_type": "display_data"
    }
   ],
   "source": [
    "counts.dds.res"
   ]
  },
  {
   "cell_type": "code",
   "execution_count": 24,
   "id": "8fc39abf",
   "metadata": {},
   "outputs": [
    {
     "data": {
      "text/html": [
       "625"
      ],
      "text/latex": [
       "625"
      ],
      "text/markdown": [
       "625"
      ],
      "text/plain": [
       "[1] 625"
      ]
     },
     "metadata": {},
     "output_type": "display_data"
    },
    {
     "data": {
      "text/html": [
       "<style>\n",
       ".list-inline {list-style: none; margin:0; padding: 0}\n",
       ".list-inline>li {display: inline-block}\n",
       ".list-inline>li:not(:last-child)::after {content: \"\\00b7\"; padding: 0 .5ex}\n",
       "</style>\n",
       "<ol class=list-inline><li>55617</li><li>6</li></ol>\n"
      ],
      "text/latex": [
       "\\begin{enumerate*}\n",
       "\\item 55617\n",
       "\\item 6\n",
       "\\end{enumerate*}\n"
      ],
      "text/markdown": [
       "1. 55617\n",
       "2. 6\n",
       "\n",
       "\n"
      ],
      "text/plain": [
       "[1] 55617     6"
      ]
     },
     "metadata": {},
     "output_type": "display_data"
    }
   ],
   "source": [
    "# Number of genes with p-adjusted value under 0.05\n",
    "sum(counts.dds.res$padj < 0.05, na.rm = T)\n",
    "\n",
    "# out of how many genes\n",
    "dim(counts.df)"
   ]
  },
  {
   "cell_type": "code",
   "execution_count": 25,
   "id": "457b4817",
   "metadata": {},
   "outputs": [
    {
     "data": {
      "image/png": "[encoded data removed]",
      "text/plain": [
       "plot without title"
      ]
     },
     "metadata": {
      "image/png": {
       "height": 420,
       "width": 420
      }
     },
     "output_type": "display_data"
    }
   ],
   "source": [
    "# Make a volcano plot for results\n",
    "EnhancedVolcano(counts.dds.res,\n",
    "    lab = rownames(counts.dds.res),\n",
    "    title = \"Volcano Plot for results\",\n",
    "    x = 'log2FoldChange',\n",
    "    y = 'padj',\n",
    "    pCutoff = 0.05)"
   ]
  },
  {
   "cell_type": "markdown",
   "id": "75e1da0f",
   "metadata": {},
   "source": [
    "## Relative Change between samples\n",
    "\n",
    "Relative change between the reprocessed and published counts for each sample. Formula used is `abs((reprocessed - published)) / published`, and quantiles of those relative change difference values are measured. Histogram of differences distribution is included."
   ]
  },
  {
   "cell_type": "markdown",
   "id": "a0965276",
   "metadata": {},
   "source": [
    "### N7MS"
   ]
  },
  {
   "cell_type": "code",
   "execution_count": 50,
   "id": "9661a0ae",
   "metadata": {
    "scrolled": false
   },
   "outputs": [
    {
     "data": {
      "text/html": [
       "<table class=\"dataframe\">\n",
       "<caption>A data.frame: 6 × 2</caption>\n",
       "<thead>\n",
       "\t<tr><th></th><th scope=col>GTExN7MScountsPUBLISHED</th><th scope=col>GTExN7MScountsREPROCESSED</th></tr>\n",
       "\t<tr><th></th><th scope=col>&lt;int&gt;</th><th scope=col>&lt;int&gt;</th></tr>\n",
       "</thead>\n",
       "<tbody>\n",
       "\t<tr><th scope=row>ENSG00000000003</th><td>    4</td><td>    2</td></tr>\n",
       "\t<tr><th scope=row>ENSG00000000005</th><td>    0</td><td>    0</td></tr>\n",
       "\t<tr><th scope=row>ENSG00000000419</th><td>  125</td><td>   88</td></tr>\n",
       "\t<tr><th scope=row>ENSG00000000457</th><td>  201</td><td>  106</td></tr>\n",
       "\t<tr><th scope=row>ENSG00000000460</th><td>   73</td><td>   47</td></tr>\n",
       "\t<tr><th scope=row>ENSG00000000938</th><td>16696</td><td>10474</td></tr>\n",
       "</tbody>\n",
       "</table>\n"
      ],
      "text/latex": [
       "A data.frame: 6 × 2\n",
       "\\begin{tabular}{r|ll}\n",
       "  & GTExN7MScountsPUBLISHED & GTExN7MScountsREPROCESSED\\\\\n",
       "  & <int> & <int>\\\\\n",
       "\\hline\n",
       "\tENSG00000000003 &     4 &     2\\\\\n",
       "\tENSG00000000005 &     0 &     0\\\\\n",
       "\tENSG00000000419 &   125 &    88\\\\\n",
       "\tENSG00000000457 &   201 &   106\\\\\n",
       "\tENSG00000000460 &    73 &    47\\\\\n",
       "\tENSG00000000938 & 16696 & 10474\\\\\n",
       "\\end{tabular}\n"
      ],
      "text/markdown": [
       "\n",
       "A data.frame: 6 × 2\n",
       "\n",
       "| <!--/--> | GTExN7MScountsPUBLISHED &lt;int&gt; | GTExN7MScountsREPROCESSED &lt;int&gt; |\n",
       "|---|---|---|\n",
       "| ENSG00000000003 |     4 |     2 |\n",
       "| ENSG00000000005 |     0 |     0 |\n",
       "| ENSG00000000419 |   125 |    88 |\n",
       "| ENSG00000000457 |   201 |   106 |\n",
       "| ENSG00000000460 |    73 |    47 |\n",
       "| ENSG00000000938 | 16696 | 10474 |\n",
       "\n"
      ],
      "text/plain": [
       "                GTExN7MScountsPUBLISHED GTExN7MScountsREPROCESSED\n",
       "ENSG00000000003     4                       2                    \n",
       "ENSG00000000005     0                       0                    \n",
       "ENSG00000000419   125                      88                    \n",
       "ENSG00000000457   201                     106                    \n",
       "ENSG00000000460    73                      47                    \n",
       "ENSG00000000938 16696                   10474                    "
      ]
     },
     "metadata": {},
     "output_type": "display_data"
    },
    {
     "name": "stdout",
     "output_type": "stream",
     "text": [
      "[1] \"Quantile:\"\n"
     ]
    },
    {
     "data": {
      "text/html": [
       "<style>\n",
       ".dl-inline {width: auto; margin:0; padding: 0}\n",
       ".dl-inline>dt, .dl-inline>dd {float: none; width: auto; display: inline-block}\n",
       ".dl-inline>dt::after {content: \":\\0020\"; padding-right: .5ex}\n",
       ".dl-inline>dt:not(:first-of-type) {padding-left: .5ex}\n",
       "</style><dl class=dl-inline><dt>0%</dt><dd>0</dd><dt>10%</dt><dd>0.12</dd><dt>25%</dt><dd>0.329545454545455</dd><dt>50%</dt><dd>0.421052631578947</dd><dt>75%</dt><dd>0.5</dd><dt>90%</dt><dd>0.990126222479164</dd><dt>99%</dt><dd>4</dd><dt>100%</dt><dd>194</dd></dl>\n"
      ],
      "text/latex": [
       "\\begin{description*}\n",
       "\\item[0\\textbackslash{}\\%] 0\n",
       "\\item[10\\textbackslash{}\\%] 0.12\n",
       "\\item[25\\textbackslash{}\\%] 0.329545454545455\n",
       "\\item[50\\textbackslash{}\\%] 0.421052631578947\n",
       "\\item[75\\textbackslash{}\\%] 0.5\n",
       "\\item[90\\textbackslash{}\\%] 0.990126222479164\n",
       "\\item[99\\textbackslash{}\\%] 4\n",
       "\\item[100\\textbackslash{}\\%] 194\n",
       "\\end{description*}\n"
      ],
      "text/markdown": [
       "0%\n",
       ":   010%\n",
       ":   0.1225%\n",
       ":   0.32954545454545550%\n",
       ":   0.42105263157894775%\n",
       ":   0.590%\n",
       ":   0.99012622247916499%\n",
       ":   4100%\n",
       ":   194\n",
       "\n"
      ],
      "text/plain": [
       "         0%         10%         25%         50%         75%         90% \n",
       "  0.0000000   0.1200000   0.3295455   0.4210526   0.5000000   0.9901262 \n",
       "        99%        100% \n",
       "  4.0000000 194.0000000 "
      ]
     },
     "metadata": {},
     "output_type": "display_data"
    },
    {
     "name": "stdout",
     "output_type": "stream",
     "text": [
      "[1] \"Gene Statistics (difference total, difference > 0.5 to >10):\"\n"
     ]
    },
    {
     "data": {
      "text/html": [
       "23906"
      ],
      "text/latex": [
       "23906"
      ],
      "text/markdown": [
       "23906"
      ],
      "text/plain": [
       "[1] 23906"
      ]
     },
     "metadata": {},
     "output_type": "display_data"
    },
    {
     "data": {
      "text/html": [
       "4648"
      ],
      "text/latex": [
       "4648"
      ],
      "text/markdown": [
       "4648"
      ],
      "text/plain": [
       "[1] 4648"
      ]
     },
     "metadata": {},
     "output_type": "display_data"
    },
    {
     "data": {
      "text/html": [
       "993"
      ],
      "text/latex": [
       "993"
      ],
      "text/markdown": [
       "993"
      ],
      "text/plain": [
       "[1] 993"
      ]
     },
     "metadata": {},
     "output_type": "display_data"
    },
    {
     "data": {
      "text/html": [
       "134"
      ],
      "text/latex": [
       "134"
      ],
      "text/markdown": [
       "134"
      ],
      "text/plain": [
       "[1] 134"
      ]
     },
     "metadata": {},
     "output_type": "display_data"
    },
    {
     "data": {
      "text/html": [
       "49"
      ],
      "text/latex": [
       "49"
      ],
      "text/markdown": [
       "49"
      ],
      "text/plain": [
       "[1] 49"
      ]
     },
     "metadata": {},
     "output_type": "display_data"
    },
    {
     "data": {
      "image/png": "[encoded data removed]",
      "text/plain": [
       "Plot with title \"GTExN7MScountsPUBLISHED  to  GTExN7MScountsREPROCESSED\""
      ]
     },
     "metadata": {
      "image/png": {
       "height": 420,
       "width": 420
      }
     },
     "output_type": "display_data"
    },
    {
     "data": {
      "image/png": "[encoded data removed]",
      "text/plain": [
       "Plot with title \"GTExN7MScountsPUBLISHED  to  GTExN7MScountsREPROCESSED\""
      ]
     },
     "metadata": {
      "image/png": {
       "height": 420,
       "width": 420
      }
     },
     "output_type": "display_data"
    },
    {
     "data": {
      "image/png": "[encoded data removed]",
      "text/plain": [
       "Plot with title \"GTExN7MScountsPUBLISHED  to  GTExN7MScountsREPROCESSED\""
      ]
     },
     "metadata": {
      "image/png": {
       "height": 420,
       "width": 420
      }
     },
     "output_type": "display_data"
    }
   ],
   "source": [
    "n7ms <- counts.df[,c(1,2)]\n",
    "head(n7ms)\n",
    "\n",
    "df <- n7ms\n",
    "published <- 1\n",
    "reprocessed <- 2\n",
    "\n",
    "# Separate vectors for non-NA values and would-be NA values (dividng by zero)\n",
    "difference <- vector()\n",
    "tozero <- vector()\n",
    "\n",
    "name <- paste(colnames(df)[published], \" to \", colnames(df)[reprocessed])\n",
    "\n",
    "# Calculate relative change for each gene\n",
    "for (k in 1:nrow(df)) {\n",
    "    if (df[k, published] == 0) { # \"divide by zero\" results in a seperate vector\n",
    "        tozero <- append(tozero, df[k, reprocessed])\n",
    "    } else {\n",
    "        # relative change value calculated and stored in vector\n",
    "        change <- abs(df[k, reprocessed] - df[k, published]) / df[k, published]\n",
    "        difference <- append(difference, change)\n",
    "    }\n",
    "}\n",
    "\n",
    "# histogram for all genes\n",
    "hist(difference, main = name, xlab = name, nclass = 100)\n",
    "\n",
    "# quantile\n",
    "print(\"Quantile:\")\n",
    "quantile(difference, probs=c(0, 0.1, 0.25, 0.5, 0.75, 0.9, 0.99, 1))\n",
    "\n",
    "# number of genes statistics\n",
    "print(\"Gene Statistics (difference total, difference > 0.5 to >10):\")\n",
    "length (difference)\n",
    "length(which (difference > 0.5))\n",
    "length(which (difference > 1))\n",
    "length(which (difference > 5))\n",
    "length(which (difference > 10))\n",
    "\n",
    "# histogram for > 10 difference genes\n",
    "rm.ind <- which (difference > 10)\n",
    "difference2 <- difference[-rm.ind]\n",
    "\n",
    "hist(difference2, main = name, xlab = name, nclass = 100)\n",
    "\n",
    "# histogram for > 5 difference genes\n",
    "rm.ind <- which (difference > 5)\n",
    "difference3 <- difference[-rm.ind]\n",
    "hist(difference3, main = name, xlab = name, nclass=100)"
   ]
  },
  {
   "cell_type": "markdown",
   "id": "2781e101",
   "metadata": {},
   "source": [
    "### NFK9"
   ]
  },
  {
   "cell_type": "code",
   "execution_count": 51,
   "id": "40cd1d8e",
   "metadata": {},
   "outputs": [
    {
     "data": {
      "text/html": [
       "<table class=\"dataframe\">\n",
       "<caption>A data.frame: 6 × 2</caption>\n",
       "<thead>\n",
       "\t<tr><th></th><th scope=col>GTExNFK9countsPUBLISHED</th><th scope=col>GTExNFK9countsREPROCESSED</th></tr>\n",
       "\t<tr><th></th><th scope=col>&lt;int&gt;</th><th scope=col>&lt;int&gt;</th></tr>\n",
       "</thead>\n",
       "<tbody>\n",
       "\t<tr><th scope=row>ENSG00000000003</th><td>   32</td><td>  17</td></tr>\n",
       "\t<tr><th scope=row>ENSG00000000005</th><td>    0</td><td>   0</td></tr>\n",
       "\t<tr><th scope=row>ENSG00000000419</th><td>  406</td><td> 244</td></tr>\n",
       "\t<tr><th scope=row>ENSG00000000457</th><td>  242</td><td> 130</td></tr>\n",
       "\t<tr><th scope=row>ENSG00000000460</th><td>   65</td><td>  37</td></tr>\n",
       "\t<tr><th scope=row>ENSG00000000938</th><td>15785</td><td>9488</td></tr>\n",
       "</tbody>\n",
       "</table>\n"
      ],
      "text/latex": [
       "A data.frame: 6 × 2\n",
       "\\begin{tabular}{r|ll}\n",
       "  & GTExNFK9countsPUBLISHED & GTExNFK9countsREPROCESSED\\\\\n",
       "  & <int> & <int>\\\\\n",
       "\\hline\n",
       "\tENSG00000000003 &    32 &   17\\\\\n",
       "\tENSG00000000005 &     0 &    0\\\\\n",
       "\tENSG00000000419 &   406 &  244\\\\\n",
       "\tENSG00000000457 &   242 &  130\\\\\n",
       "\tENSG00000000460 &    65 &   37\\\\\n",
       "\tENSG00000000938 & 15785 & 9488\\\\\n",
       "\\end{tabular}\n"
      ],
      "text/markdown": [
       "\n",
       "A data.frame: 6 × 2\n",
       "\n",
       "| <!--/--> | GTExNFK9countsPUBLISHED &lt;int&gt; | GTExNFK9countsREPROCESSED &lt;int&gt; |\n",
       "|---|---|---|\n",
       "| ENSG00000000003 |    32 |   17 |\n",
       "| ENSG00000000005 |     0 |    0 |\n",
       "| ENSG00000000419 |   406 |  244 |\n",
       "| ENSG00000000457 |   242 |  130 |\n",
       "| ENSG00000000460 |    65 |   37 |\n",
       "| ENSG00000000938 | 15785 | 9488 |\n",
       "\n"
      ],
      "text/plain": [
       "                GTExNFK9countsPUBLISHED GTExNFK9countsREPROCESSED\n",
       "ENSG00000000003    32                     17                     \n",
       "ENSG00000000005     0                      0                     \n",
       "ENSG00000000419   406                    244                     \n",
       "ENSG00000000457   242                    130                     \n",
       "ENSG00000000460    65                     37                     \n",
       "ENSG00000000938 15785                   9488                     "
      ]
     },
     "metadata": {},
     "output_type": "display_data"
    },
    {
     "name": "stdout",
     "output_type": "stream",
     "text": [
      "[1] \"Quantile:\"\n"
     ]
    },
    {
     "data": {
      "text/html": [
       "<style>\n",
       ".dl-inline {width: auto; margin:0; padding: 0}\n",
       ".dl-inline>dt, .dl-inline>dd {float: none; width: auto; display: inline-block}\n",
       ".dl-inline>dt::after {content: \":\\0020\"; padding-right: .5ex}\n",
       ".dl-inline>dt:not(:first-of-type) {padding-left: .5ex}\n",
       "</style><dl class=dl-inline><dt>0%</dt><dd>0</dd><dt>10%</dt><dd>0.166666666666667</dd><dt>25%</dt><dd>0.352124374151888</dd><dt>50%</dt><dd>0.41980051747877</dd><dt>75%</dt><dd>0.5</dd><dt>90%</dt><dd>1</dd><dt>99%</dt><dd>3.25</dd><dt>100%</dt><dd>65</dd></dl>\n"
      ],
      "text/latex": [
       "\\begin{description*}\n",
       "\\item[0\\textbackslash{}\\%] 0\n",
       "\\item[10\\textbackslash{}\\%] 0.166666666666667\n",
       "\\item[25\\textbackslash{}\\%] 0.352124374151888\n",
       "\\item[50\\textbackslash{}\\%] 0.41980051747877\n",
       "\\item[75\\textbackslash{}\\%] 0.5\n",
       "\\item[90\\textbackslash{}\\%] 1\n",
       "\\item[99\\textbackslash{}\\%] 3.25\n",
       "\\item[100\\textbackslash{}\\%] 65\n",
       "\\end{description*}\n"
      ],
      "text/markdown": [
       "0%\n",
       ":   010%\n",
       ":   0.16666666666666725%\n",
       ":   0.35212437415188850%\n",
       ":   0.4198005174787775%\n",
       ":   0.590%\n",
       ":   199%\n",
       ":   3.25100%\n",
       ":   65\n",
       "\n"
      ],
      "text/plain": [
       "        0%        10%        25%        50%        75%        90%        99% \n",
       " 0.0000000  0.1666667  0.3521244  0.4198005  0.5000000  1.0000000  3.2500000 \n",
       "      100% \n",
       "65.0000000 "
      ]
     },
     "metadata": {},
     "output_type": "display_data"
    },
    {
     "name": "stdout",
     "output_type": "stream",
     "text": [
      "[1] \"Gene Statistics (difference total, difference > 0.5 to >10):\"\n"
     ]
    },
    {
     "data": {
      "text/html": [
       "22086"
      ],
      "text/latex": [
       "22086"
      ],
      "text/markdown": [
       "22086"
      ],
      "text/plain": [
       "[1] 22086"
      ]
     },
     "metadata": {},
     "output_type": "display_data"
    },
    {
     "data": {
      "text/html": [
       "4601"
      ],
      "text/latex": [
       "4601"
      ],
      "text/markdown": [
       "4601"
      ],
      "text/plain": [
       "[1] 4601"
      ]
     },
     "metadata": {},
     "output_type": "display_data"
    },
    {
     "data": {
      "text/html": [
       "789"
      ],
      "text/latex": [
       "789"
      ],
      "text/markdown": [
       "789"
      ],
      "text/plain": [
       "[1] 789"
      ]
     },
     "metadata": {},
     "output_type": "display_data"
    },
    {
     "data": {
      "text/html": [
       "107"
      ],
      "text/latex": [
       "107"
      ],
      "text/markdown": [
       "107"
      ],
      "text/plain": [
       "[1] 107"
      ]
     },
     "metadata": {},
     "output_type": "display_data"
    },
    {
     "data": {
      "text/html": [
       "31"
      ],
      "text/latex": [
       "31"
      ],
      "text/markdown": [
       "31"
      ],
      "text/plain": [
       "[1] 31"
      ]
     },
     "metadata": {},
     "output_type": "display_data"
    },
    {
     "data": {
      "image/png": "[encoded data removed]",
      "text/plain": [
       "Plot with title \"GTExNFK9countsPUBLISHED  to  GTExNFK9countsREPROCESSED\""
      ]
     },
     "metadata": {
      "image/png": {
       "height": 420,
       "width": 420
      }
     },
     "output_type": "display_data"
    },
    {
     "data": {
      "image/png": "[encoded data removed]",
      "text/plain": [
       "Plot with title \"GTExNFK9countsPUBLISHED  to  GTExNFK9countsREPROCESSED\""
      ]
     },
     "metadata": {
      "image/png": {
       "height": 420,
       "width": 420
      }
     },
     "output_type": "display_data"
    },
    {
     "data": {
      "image/png": "[encoded data removed]",
      "text/plain": [
       "Plot with title \"GTExNFK9countsPUBLISHED  to  GTExNFK9countsREPROCESSED\""
      ]
     },
     "metadata": {
      "image/png": {
       "height": 420,
       "width": 420
      }
     },
     "output_type": "display_data"
    }
   ],
   "source": [
    "nfk9 <- counts.df[,c(3,4)]\n",
    "head(nfk9)\n",
    "\n",
    "df <- nfk9\n",
    "published <- 1\n",
    "reprocessed <- 2\n",
    "\n",
    "difference <- vector()\n",
    "tozero <- vector()\n",
    "\n",
    "name <- paste(colnames(df)[published], \" to \", colnames(df)[reprocessed])\n",
    "\n",
    "for (k in 1:nrow(df)) {\n",
    "    if (df[k, published] == 0) { # \"divide by zero\" results in a seperate vector\n",
    "        tozero <- append(tozero, df[k, reprocessed])\n",
    "    } else {\n",
    "        # relative change value calculated and stored in vector\n",
    "        change <- abs(df[k, reprocessed] - df[k, published]) / df[k, published]\n",
    "        difference <- append(difference, change)\n",
    "    }\n",
    "}\n",
    "\n",
    "# histogram for all genes\n",
    "hist(difference, main = name, xlab = name, nclass = 100)\n",
    "\n",
    "# quantile\n",
    "print(\"Quantile:\")\n",
    "quantile(difference, probs=c(0, 0.1, 0.25, 0.5, 0.75, 0.9, 0.99, 1))\n",
    "\n",
    "# number of genes statistics\n",
    "print(\"Gene Statistics (difference total, difference > 0.5 to >10):\")\n",
    "length (difference)\n",
    "length(which (difference > 0.5))\n",
    "length(which (difference > 1))\n",
    "length(which (difference > 5))\n",
    "length(which (difference > 10))\n",
    "\n",
    "# histogram for > 10 difference genes\n",
    "rm.ind <- which (difference > 10)\n",
    "difference2 <- difference[-rm.ind]\n",
    "\n",
    "hist(difference2, main = name, xlab = name, nclass = 100)\n",
    "\n",
    "# histogram for > 5 difference genes\n",
    "rm.ind <- which (difference > 5)\n",
    "difference3 <- difference[-rm.ind]\n",
    "hist(difference3, main = name, xlab = name, nclass=100)"
   ]
  },
  {
   "cell_type": "markdown",
   "id": "77e93486",
   "metadata": {},
   "source": [
    "### O5YT"
   ]
  },
  {
   "cell_type": "code",
   "execution_count": 52,
   "id": "bbf9bfee",
   "metadata": {},
   "outputs": [
    {
     "data": {
      "text/html": [
       "<table class=\"dataframe\">\n",
       "<caption>A data.frame: 6 × 2</caption>\n",
       "<thead>\n",
       "\t<tr><th></th><th scope=col>GTExO5YTcountsPUBLISHED</th><th scope=col>GTExO5YTcountsREPROCESSED</th></tr>\n",
       "\t<tr><th></th><th scope=col>&lt;int&gt;</th><th scope=col>&lt;int&gt;</th></tr>\n",
       "</thead>\n",
       "<tbody>\n",
       "\t<tr><th scope=row>ENSG00000000003</th><td>    47</td><td>   34</td></tr>\n",
       "\t<tr><th scope=row>ENSG00000000005</th><td>     0</td><td>    0</td></tr>\n",
       "\t<tr><th scope=row>ENSG00000000419</th><td>  1618</td><td>  899</td></tr>\n",
       "\t<tr><th scope=row>ENSG00000000457</th><td>  1179</td><td>  585</td></tr>\n",
       "\t<tr><th scope=row>ENSG00000000460</th><td>   139</td><td>   89</td></tr>\n",
       "\t<tr><th scope=row>ENSG00000000938</th><td>167865</td><td>94273</td></tr>\n",
       "</tbody>\n",
       "</table>\n"
      ],
      "text/latex": [
       "A data.frame: 6 × 2\n",
       "\\begin{tabular}{r|ll}\n",
       "  & GTExO5YTcountsPUBLISHED & GTExO5YTcountsREPROCESSED\\\\\n",
       "  & <int> & <int>\\\\\n",
       "\\hline\n",
       "\tENSG00000000003 &     47 &    34\\\\\n",
       "\tENSG00000000005 &      0 &     0\\\\\n",
       "\tENSG00000000419 &   1618 &   899\\\\\n",
       "\tENSG00000000457 &   1179 &   585\\\\\n",
       "\tENSG00000000460 &    139 &    89\\\\\n",
       "\tENSG00000000938 & 167865 & 94273\\\\\n",
       "\\end{tabular}\n"
      ],
      "text/markdown": [
       "\n",
       "A data.frame: 6 × 2\n",
       "\n",
       "| <!--/--> | GTExO5YTcountsPUBLISHED &lt;int&gt; | GTExO5YTcountsREPROCESSED &lt;int&gt; |\n",
       "|---|---|---|\n",
       "| ENSG00000000003 |     47 |    34 |\n",
       "| ENSG00000000005 |      0 |     0 |\n",
       "| ENSG00000000419 |   1618 |   899 |\n",
       "| ENSG00000000457 |   1179 |   585 |\n",
       "| ENSG00000000460 |    139 |    89 |\n",
       "| ENSG00000000938 | 167865 | 94273 |\n",
       "\n"
      ],
      "text/plain": [
       "                GTExO5YTcountsPUBLISHED GTExO5YTcountsREPROCESSED\n",
       "ENSG00000000003     47                     34                    \n",
       "ENSG00000000005      0                      0                    \n",
       "ENSG00000000419   1618                    899                    \n",
       "ENSG00000000457   1179                    585                    \n",
       "ENSG00000000460    139                     89                    \n",
       "ENSG00000000938 167865                  94273                    "
      ]
     },
     "metadata": {},
     "output_type": "display_data"
    },
    {
     "name": "stdout",
     "output_type": "stream",
     "text": [
      "[1] \"Quantile:\"\n"
     ]
    },
    {
     "data": {
      "text/html": [
       "<style>\n",
       ".dl-inline {width: auto; margin:0; padding: 0}\n",
       ".dl-inline>dt, .dl-inline>dd {float: none; width: auto; display: inline-block}\n",
       ".dl-inline>dt::after {content: \":\\0020\"; padding-right: .5ex}\n",
       ".dl-inline>dt:not(:first-of-type) {padding-left: .5ex}\n",
       "</style><dl class=dl-inline><dt>0%</dt><dd>0</dd><dt>10%</dt><dd>0.101902455897613</dd><dt>25%</dt><dd>0.333333333333333</dd><dt>50%</dt><dd>0.438828530940009</dd><dt>75%</dt><dd>0.504347826086956</dd><dt>90%</dt><dd>1</dd><dt>99%</dt><dd>4</dd><dt>100%</dt><dd>382</dd></dl>\n"
      ],
      "text/latex": [
       "\\begin{description*}\n",
       "\\item[0\\textbackslash{}\\%] 0\n",
       "\\item[10\\textbackslash{}\\%] 0.101902455897613\n",
       "\\item[25\\textbackslash{}\\%] 0.333333333333333\n",
       "\\item[50\\textbackslash{}\\%] 0.438828530940009\n",
       "\\item[75\\textbackslash{}\\%] 0.504347826086956\n",
       "\\item[90\\textbackslash{}\\%] 1\n",
       "\\item[99\\textbackslash{}\\%] 4\n",
       "\\item[100\\textbackslash{}\\%] 382\n",
       "\\end{description*}\n"
      ],
      "text/markdown": [
       "0%\n",
       ":   010%\n",
       ":   0.10190245589761325%\n",
       ":   0.33333333333333350%\n",
       ":   0.43882853094000975%\n",
       ":   0.50434782608695690%\n",
       ":   199%\n",
       ":   4100%\n",
       ":   382\n",
       "\n"
      ],
      "text/plain": [
       "         0%         10%         25%         50%         75%         90% \n",
       "  0.0000000   0.1019025   0.3333333   0.4388285   0.5043478   1.0000000 \n",
       "        99%        100% \n",
       "  4.0000000 382.0000000 "
      ]
     },
     "metadata": {},
     "output_type": "display_data"
    },
    {
     "name": "stdout",
     "output_type": "stream",
     "text": [
      "[1] \"Gene Statistics (difference total, difference > 0.5 to >10):\"\n"
     ]
    },
    {
     "data": {
      "text/html": [
       "23997"
      ],
      "text/latex": [
       "23997"
      ],
      "text/markdown": [
       "23997"
      ],
      "text/plain": [
       "[1] 23997"
      ]
     },
     "metadata": {},
     "output_type": "display_data"
    },
    {
     "data": {
      "text/html": [
       "6046"
      ],
      "text/latex": [
       "6046"
      ],
      "text/markdown": [
       "6046"
      ],
      "text/plain": [
       "[1] 6046"
      ]
     },
     "metadata": {},
     "output_type": "display_data"
    },
    {
     "data": {
      "text/html": [
       "1064"
      ],
      "text/latex": [
       "1064"
      ],
      "text/markdown": [
       "1064"
      ],
      "text/plain": [
       "[1] 1064"
      ]
     },
     "metadata": {},
     "output_type": "display_data"
    },
    {
     "data": {
      "text/html": [
       "171"
      ],
      "text/latex": [
       "171"
      ],
      "text/markdown": [
       "171"
      ],
      "text/plain": [
       "[1] 171"
      ]
     },
     "metadata": {},
     "output_type": "display_data"
    },
    {
     "data": {
      "text/html": [
       "63"
      ],
      "text/latex": [
       "63"
      ],
      "text/markdown": [
       "63"
      ],
      "text/plain": [
       "[1] 63"
      ]
     },
     "metadata": {},
     "output_type": "display_data"
    },
    {
     "data": {
      "image/png": "[encoded data removed]",
      "text/plain": [
       "Plot with title \"GTExO5YTcountsPUBLISHED  to  GTExO5YTcountsREPROCESSED\""
      ]
     },
     "metadata": {
      "image/png": {
       "height": 420,
       "width": 420
      }
     },
     "output_type": "display_data"
    },
    {
     "data": {
      "image/png": "[encoded data removed]",
      "text/plain": [
       "Plot with title \"GTExO5YTcountsPUBLISHED  to  GTExO5YTcountsREPROCESSED\""
      ]
     },
     "metadata": {
      "image/png": {
       "height": 420,
       "width": 420
      }
     },
     "output_type": "display_data"
    },
    {
     "data": {
      "image/png": "[encoded data removed]",
      "text/plain": [
       "Plot with title \"GTExO5YTcountsPUBLISHED  to  GTExO5YTcountsREPROCESSED\""
      ]
     },
     "metadata": {
      "image/png": {
       "height": 420,
       "width": 420
      }
     },
     "output_type": "display_data"
    }
   ],
   "source": [
    "O5yt <- counts.df[,c(5,6)]\n",
    "head(O5yt)\n",
    "\n",
    "df <- O5yt\n",
    "published <- 1\n",
    "reprocessed <- 2\n",
    "\n",
    "difference <- vector()\n",
    "tozero <- vector()\n",
    "\n",
    "name <- paste(colnames(df)[published], \" to \", colnames(df)[reprocessed])\n",
    "\n",
    "for (k in 1:nrow(df)) {\n",
    "    if (df[k, published] == 0) { # \"divide by zero\" results in a seperate vector\n",
    "        tozero <- append(tozero, df[k, reprocessed])\n",
    "    } else {\n",
    "        # relative change value calculated and stored in vector\n",
    "        change <- abs(df[k, reprocessed] - df[k, published]) / df[k, published]\n",
    "        difference <- append(difference, change)\n",
    "    }\n",
    "}\n",
    "\n",
    "# histogram for all genes\n",
    "hist(difference, main = name, xlab = name, nclass = 100)\n",
    "\n",
    "# quantile\n",
    "print(\"Quantile:\")\n",
    "quantile(difference, probs=c(0, 0.1, 0.25, 0.5, 0.75, 0.9, 0.99, 1))\n",
    "\n",
    "# number of genes statistics\n",
    "print(\"Gene Statistics (difference total, difference > 0.5 to >10):\")\n",
    "length (difference)\n",
    "length(which (difference > 0.5))\n",
    "length(which (difference > 1))\n",
    "length(which (difference > 5))\n",
    "length(which (difference > 10))\n",
    "\n",
    "# histogram for > 10 difference genes\n",
    "rm.ind <- which (difference > 10)\n",
    "difference2 <- difference[-rm.ind]\n",
    "\n",
    "hist(difference2, main = name, xlab = name, nclass = 100)\n",
    "\n",
    "# histogram for > 5 difference genes\n",
    "rm.ind <- which (difference > 5)\n",
    "difference3 <- difference[-rm.ind]\n",
    "hist(difference3, main = name, xlab = name, nclass=100)"
   ]
  },
  {
   "cell_type": "code",
   "execution_count": null,
   "id": "dbb78250",
   "metadata": {},
   "outputs": [],
   "source": []
  },
  {
   "cell_type": "code",
   "execution_count": null,
   "id": "0dbe3bb0",
   "metadata": {},
   "outputs": [],
   "source": []
  }
 ],
 "metadata": {
  "kernelspec": {
   "display_name": "R",
   "language": "R",
   "name": "ir"
  },
  "language_info": {
   "codemirror_mode": "r",
   "file_extension": ".r",
   "mimetype": "text/x-r-source",
   "name": "R",
   "pygments_lexer": "r",
   "version": "4.1.3"
  }
 },
 "nbformat": 4,
 "nbformat_minor": 5
}
